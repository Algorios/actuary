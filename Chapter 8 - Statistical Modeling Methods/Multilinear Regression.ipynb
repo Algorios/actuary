{
 "cells": [
  {
   "cell_type": "markdown",
   "metadata": {},
   "source": [
    "# Notebook Showing Linear Regression"
   ]
  },
  {
   "cell_type": "code",
   "execution_count": 14,
   "metadata": {},
   "outputs": [],
   "source": [
    "import os\n",
    "\n",
    "import pandas as pd\n",
    "import numpy as np\n",
    "\n",
    "from sklearn import linear_model\n",
    "from sklearn.metrics import r2_score\n",
    "\n",
    "import statsmodels.formula.api as smf\n",
    "from sklearn.model_selection import train_test_split"
   ]
  },
  {
   "cell_type": "code",
   "execution_count": 15,
   "metadata": {},
   "outputs": [],
   "source": [
    "pd.set_option('max_columns', 200)\n",
    "pd.set_option('max_rows', 200)\n",
    "pd.set_option('display.float_format', '{:.2f}'.format)"
   ]
  },
  {
   "cell_type": "code",
   "execution_count": 16,
   "metadata": {},
   "outputs": [],
   "source": [
    "df = pd.read_pickle('../Chapter 7 - Data Preparation and Visualization/claims_df')"
   ]
  },
  {
   "cell_type": "code",
   "execution_count": 18,
   "metadata": {},
   "outputs": [],
   "source": [
    "disease = ['SP_ALZHDMTA',\n",
    "       'SP_CHF', 'SP_CHRNKIDN', 'SP_CNCR', 'SP_COPD', 'SP_DEPRESSN',\n",
    "       'SP_DIABETES', 'SP_ISCHMCHT', 'SP_OSTEOPRS', 'SP_RA_OA', 'SP_STRKETIA']"
   ]
  },
  {
   "cell_type": "code",
   "execution_count": 20,
   "metadata": {},
   "outputs": [],
   "source": [
    "disease = ['SP_ALZHDMTA','SP_CHF', 'SP_CHRNKIDN', 'SP_CNCR', 'SP_COPD', 'SP_DEPRESSN','SP_DIABETES', 'SP_ISCHMCHT', 'SP_OSTEOPRS', 'SP_RA_OA', 'SP_STRKETIA']\n",
    "gender = ['gender_2']\n",
    "ESRD = ['ESRD_Y']"
   ]
  },
  {
   "cell_type": "code",
   "execution_count": 27,
   "metadata": {},
   "outputs": [],
   "source": [
    "X = df[disease+gender+ESRD]\n",
    "y = df.TOTAL_LOG_PAID"
   ]
  },
  {
   "cell_type": "code",
   "execution_count": 45,
   "metadata": {},
   "outputs": [],
   "source": [
    "X_train, X_test, y_train, y_test = train_test_split(X, y, test_size=0.4, random_state=314)"
   ]
  },
  {
   "cell_type": "code",
   "execution_count": 55,
   "metadata": {},
   "outputs": [
    {
     "data": {
      "text/plain": [
       "Index(['SP_ALZHDMTA', 'SP_CHF', 'SP_CHRNKIDN', 'SP_CNCR', 'SP_COPD',\n",
       "       'SP_DEPRESSN', 'SP_DIABETES', 'SP_ISCHMCHT', 'SP_OSTEOPRS', 'SP_RA_OA',\n",
       "       'SP_STRKETIA', 'gender_2', 'ESRD_Y'],\n",
       "      dtype='object')"
      ]
     },
     "execution_count": 55,
     "metadata": {},
     "output_type": "execute_result"
    }
   ],
   "source": [
    "X.columns"
   ]
  },
  {
   "cell_type": "code",
   "execution_count": 67,
   "metadata": {
    "scrolled": true
   },
   "outputs": [
    {
     "name": "stdout",
     "output_type": "stream",
     "text": [
      "Training R^2: 50.1%\n",
      "Test R^2: 49.9%\n",
      "Intercept: 6.1\n",
      "Coefficients: SP_ALZHDMTA: 0.35, SP_CHF: 0.42, SP_CHRNKIDN: 0.67, SP_CNCR: 0.54, SP_COPD: 0.42, SP_DEPRESSN: 0.34, SP_DIABETES: 0.49, SP_ISCHMCHT: 0.59, SP_OSTEOPRS: 0.27, SP_RA_OA: 0.39, SP_STRKETIA: 0.41, gender_2: 0.0086, ESRD_Y: 0.23\n"
     ]
    }
   ],
   "source": [
    "lm = linear_model.LinearRegression()\n",
    "\n",
    "lm.fit(X_train, y_train)\n",
    "\n",
    "y_pred_train = lm.predict(X_train)\n",
    "\n",
    "y_pred_test = lm.predict(X_test)\n",
    "\n",
    "print('Training R^2: {:,.3}%'.format(r2_score(y_train, y_pred_train)*100))\n",
    "\n",
    "print('Test R^2: {:,.3}%'.format(r2_score(y_test, y_pred_test)*100))\n",
    "\n",
    "print('Intercept: {:,.2}'.format(lm.intercept_))\n",
    "\n",
    "print('Coefficients: ' + ', '.join(['{}: {:,.2}'.format(col, coef_val) for col, coef_val in zip(X.columns, lm.coef_)]))"
   ]
  },
  {
   "cell_type": "code",
   "execution_count": 40,
   "metadata": {},
   "outputs": [],
   "source": [
    "X_train_df = pd.DataFrame(X_train, columns=X.columns)"
   ]
  },
  {
   "cell_type": "code",
   "execution_count": 41,
   "metadata": {},
   "outputs": [
    {
     "name": "stderr",
     "output_type": "stream",
     "text": [
      "/Users/andrewwebster/venv/lib/python3.6/site-packages/pandas/core/indexing.py:362: SettingWithCopyWarning: \n",
      "A value is trying to be set on a copy of a slice from a DataFrame.\n",
      "Try using .loc[row_indexer,col_indexer] = value instead\n",
      "\n",
      "See the caveats in the documentation: http://pandas.pydata.org/pandas-docs/stable/indexing.html#indexing-view-versus-copy\n",
      "  self.obj[key] = _infer_fill_value(value)\n",
      "/Users/andrewwebster/venv/lib/python3.6/site-packages/pandas/core/indexing.py:543: SettingWithCopyWarning: \n",
      "A value is trying to be set on a copy of a slice from a DataFrame.\n",
      "Try using .loc[row_indexer,col_indexer] = value instead\n",
      "\n",
      "See the caveats in the documentation: http://pandas.pydata.org/pandas-docs/stable/indexing.html#indexing-view-versus-copy\n",
      "  self.obj[item] = s\n"
     ]
    }
   ],
   "source": [
    "X_train.loc[:, 'TOTAL_LOG_PAID'] = y_train"
   ]
  },
  {
   "cell_type": "code",
   "execution_count": 42,
   "metadata": {},
   "outputs": [
    {
     "name": "stdout",
     "output_type": "stream",
     "text": [
      "                            OLS Regression Results                            \n",
      "==============================================================================\n",
      "Dep. Variable:         TOTAL_LOG_PAID   R-squared:                       0.501\n",
      "Model:                            OLS   Adj. R-squared:                  0.499\n",
      "Method:                 Least Squares   F-statistic:                     216.8\n",
      "Date:                Fri, 15 Jun 2018   Prob (F-statistic):               0.00\n",
      "Time:                        11:45:05   Log-Likelihood:                -4302.0\n",
      "No. Observations:                2820   AIC:                             8632.\n",
      "Df Residuals:                    2806   BIC:                             8715.\n",
      "Df Model:                          13                                         \n",
      "Covariance Type:            nonrobust                                         \n",
      "===============================================================================\n",
      "                  coef    std err          t      P>|t|      [0.025      0.975]\n",
      "-------------------------------------------------------------------------------\n",
      "Intercept       6.0646      0.042    143.445      0.000       5.982       6.147\n",
      "gender_2        0.0086      0.042      0.205      0.838      -0.074       0.092\n",
      "ESRD_Y          0.2341      0.078      2.997      0.003       0.081       0.387\n",
      "SP_ALZHDMTA     0.3498      0.052      6.668      0.000       0.247       0.453\n",
      "SP_CHF          0.4245      0.049      8.600      0.000       0.328       0.521\n",
      "SP_CHRNKIDN     0.6666      0.063     10.616      0.000       0.543       0.790\n",
      "SP_CNCR         0.5354      0.079      6.782      0.000       0.381       0.690\n",
      "SP_COPD         0.4194      0.061      6.839      0.000       0.299       0.540\n",
      "SP_DEPRESSN     0.3371      0.049      6.897      0.000       0.241       0.433\n",
      "SP_DIABETES     0.4866      0.049      9.928      0.000       0.390       0.583\n",
      "SP_ISCHMCHT     0.5945      0.049     12.222      0.000       0.499       0.690\n",
      "SP_OSTEOPRS     0.2719      0.052      5.210      0.000       0.170       0.374\n",
      "SP_RA_OA        0.3922      0.056      6.996      0.000       0.282       0.502\n",
      "SP_STRKETIA     0.4120      0.096      4.286      0.000       0.224       0.601\n",
      "==============================================================================\n",
      "Omnibus:                       59.415   Durbin-Watson:                   1.953\n",
      "Prob(Omnibus):                  0.000   Jarque-Bera (JB):               75.069\n",
      "Skew:                          -0.273   Prob(JB):                     5.00e-17\n",
      "Kurtosis:                       3.583   Cond. No.                         7.50\n",
      "==============================================================================\n",
      "\n",
      "Warnings:\n",
      "[1] Standard Errors assume that the covariance matrix of the errors is correctly specified.\n"
     ]
    }
   ],
   "source": [
    "mod = smf.ols(formula='TOTAL_LOG_PAID ~ gender_2 + ESRD_Y + SP_ALZHDMTA + SP_CHF + SP_CHRNKIDN + SP_CNCR + SP_COPD + SP_DEPRESSN + SP_DIABETES + SP_ISCHMCHT + SP_OSTEOPRS + SP_RA_OA + SP_STRKETIA', data=X_train_df)\n",
    "\n",
    "res = mod.fit()\n",
    "\n",
    "print(res.summary())"
   ]
  },
  {
   "cell_type": "code",
   "execution_count": null,
   "metadata": {},
   "outputs": [],
   "source": []
  }
 ],
 "metadata": {
  "kernelspec": {
   "display_name": "Python 3",
   "language": "python",
   "name": "python3"
  },
  "language_info": {
   "codemirror_mode": {
    "name": "ipython",
    "version": 3
   },
   "file_extension": ".py",
   "mimetype": "text/x-python",
   "name": "python",
   "nbconvert_exporter": "python",
   "pygments_lexer": "ipython3",
   "version": "3.6.3"
  }
 },
 "nbformat": 4,
 "nbformat_minor": 2
}
