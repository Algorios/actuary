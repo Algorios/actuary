{
 "cells": [
  {
   "cell_type": "code",
   "execution_count": 19,
   "metadata": {},
   "outputs": [],
   "source": [
    "import os\n",
    "\n",
    "import pandas as pd\n",
    "import numpy as np\n",
    "\n",
    "import seaborn as sns; sns.set()\n",
    "\n",
    "from sklearn.linear_model import LogisticRegression\n",
    "from sklearn.preprocessing import LabelEncoder\n",
    "from sklearn.metrics import confusion_matrix\n",
    "\n",
    "from statsmodels.discrete.discrete_model import Logit, LogitResults"
   ]
  },
  {
   "cell_type": "code",
   "execution_count": 5,
   "metadata": {},
   "outputs": [],
   "source": [
    "pd.set_option('max_columns', 200)\n",
    "pd.set_option('max_rows', 200)\n",
    "pd.set_option('display.float_format', '{:.2f}'.format)"
   ]
  },
  {
   "cell_type": "code",
   "execution_count": 7,
   "metadata": {},
   "outputs": [],
   "source": [
    "df = pd.read_pickle('../Chapter 7 - Data Preparation and Visualization/claims_df')"
   ]
  },
  {
   "cell_type": "code",
   "execution_count": 32,
   "metadata": {},
   "outputs": [
    {
     "data": {
      "text/plain": [
       "(4700, 38)"
      ]
     },
     "execution_count": 32,
     "metadata": {},
     "output_type": "execute_result"
    }
   ],
   "source": [
    "df.shape"
   ]
  },
  {
   "cell_type": "code",
   "execution_count": 9,
   "metadata": {},
   "outputs": [],
   "source": [
    "disease = ['SP_ALZHDMTA','SP_CHF', 'SP_CHRNKIDN', 'SP_CNCR', 'SP_COPD', 'SP_DEPRESSN','SP_DIABETES', 'SP_ISCHMCHT', 'SP_OSTEOPRS', 'SP_RA_OA', 'SP_STRKETIA']\n",
    "gender = ['gender_2']\n",
    "ESRD = ['ESRD_Y']"
   ]
  },
  {
   "cell_type": "code",
   "execution_count": 10,
   "metadata": {},
   "outputs": [],
   "source": [
    "X = df[disease+gender+ESRD]\n",
    "y = df.HIGH_COST"
   ]
  },
  {
   "cell_type": "code",
   "execution_count": 11,
   "metadata": {},
   "outputs": [],
   "source": [
    "lab_enc = LabelEncoder()"
   ]
  },
  {
   "cell_type": "code",
   "execution_count": 12,
   "metadata": {},
   "outputs": [
    {
     "data": {
      "text/plain": [
       "array([0, 0, 0, ..., 0, 0, 0])"
      ]
     },
     "execution_count": 12,
     "metadata": {},
     "output_type": "execute_result"
    }
   ],
   "source": [
    "lab_enc.fit_transform(y)"
   ]
  },
  {
   "cell_type": "code",
   "execution_count": 110,
   "metadata": {},
   "outputs": [],
   "source": [
    "lm = LogisticRegression()"
   ]
  },
  {
   "cell_type": "code",
   "execution_count": 111,
   "metadata": {
    "scrolled": true
   },
   "outputs": [
    {
     "data": {
      "text/plain": [
       "LogisticRegression(C=1.0, class_weight=None, dual=False, fit_intercept=True,\n",
       "          intercept_scaling=1, max_iter=100, multi_class='ovr', n_jobs=1,\n",
       "          penalty='l2', random_state=None, solver='liblinear', tol=0.0001,\n",
       "          verbose=0, warm_start=False)"
      ]
     },
     "execution_count": 111,
     "metadata": {},
     "output_type": "execute_result"
    }
   ],
   "source": [
    "lm.fit(X, y)"
   ]
  },
  {
   "cell_type": "code",
   "execution_count": 112,
   "metadata": {},
   "outputs": [
    {
     "data": {
      "text/plain": [
       "0.9027659574468085"
      ]
     },
     "execution_count": 112,
     "metadata": {},
     "output_type": "execute_result"
    }
   ],
   "source": [
    "lm.score(X, y)"
   ]
  },
  {
   "cell_type": "code",
   "execution_count": 113,
   "metadata": {},
   "outputs": [],
   "source": [
    "def generate_conf_mat(model, X, y):\n",
    "    conf_mat = confusion_matrix(model.predict(X), y)\n",
    "    conf_mat = pd.DataFrame(conf_mat/conf_mat.sum())\n",
    "    conf_mat.columns = ['0_pred', '1_pred']\n",
    "    conf_mat.index=['0_actual', '1_actual']\n",
    "    return conf_mat"
   ]
  },
  {
   "cell_type": "code",
   "execution_count": 114,
   "metadata": {},
   "outputs": [],
   "source": [
    "conf_mat = generate_conf_mat(lm, X, y)"
   ]
  },
  {
   "cell_type": "code",
   "execution_count": 115,
   "metadata": {},
   "outputs": [
    {
     "data": {
      "text/html": [
       "<div>\n",
       "<style scoped>\n",
       "    .dataframe tbody tr th:only-of-type {\n",
       "        vertical-align: middle;\n",
       "    }\n",
       "\n",
       "    .dataframe tbody tr th {\n",
       "        vertical-align: top;\n",
       "    }\n",
       "\n",
       "    .dataframe thead th {\n",
       "        text-align: right;\n",
       "    }\n",
       "</style>\n",
       "<table border=\"1\" class=\"dataframe\">\n",
       "  <thead>\n",
       "    <tr style=\"text-align: right;\">\n",
       "      <th></th>\n",
       "      <th>0_pred</th>\n",
       "      <th>1_pred</th>\n",
       "    </tr>\n",
       "  </thead>\n",
       "  <tbody>\n",
       "    <tr>\n",
       "      <th>0_actual</th>\n",
       "      <td>0.88</td>\n",
       "      <td>0.08</td>\n",
       "    </tr>\n",
       "    <tr>\n",
       "      <th>1_actual</th>\n",
       "      <td>0.02</td>\n",
       "      <td>0.02</td>\n",
       "    </tr>\n",
       "  </tbody>\n",
       "</table>\n",
       "</div>"
      ],
      "text/plain": [
       "          0_pred  1_pred\n",
       "0_actual    0.88    0.08\n",
       "1_actual    0.02    0.02"
      ]
     },
     "execution_count": 115,
     "metadata": {},
     "output_type": "execute_result"
    }
   ],
   "source": [
    "conf_mat"
   ]
  },
  {
   "cell_type": "markdown",
   "metadata": {},
   "source": [
    "# Use statsmodels"
   ]
  },
  {
   "cell_type": "code",
   "execution_count": 116,
   "metadata": {},
   "outputs": [],
   "source": [
    "lm2 = Logit(y, X)"
   ]
  },
  {
   "cell_type": "code",
   "execution_count": 117,
   "metadata": {},
   "outputs": [
    {
     "name": "stdout",
     "output_type": "stream",
     "text": [
      "Optimization terminated successfully.\n",
      "         Current function value: 0.421470\n",
      "         Iterations 7\n"
     ]
    }
   ],
   "source": [
    "results = lm2.fit()"
   ]
  },
  {
   "cell_type": "code",
   "execution_count": 118,
   "metadata": {
    "scrolled": true
   },
   "outputs": [
    {
     "data": {
      "text/html": [
       "<table class=\"simpletable\">\n",
       "<caption>Logit Regression Results</caption>\n",
       "<tr>\n",
       "  <th>Dep. Variable:</th>     <td>HIGH_COST</td>    <th>  No. Observations:  </th>  <td>  4700</td> \n",
       "</tr>\n",
       "<tr>\n",
       "  <th>Model:</th>               <td>Logit</td>      <th>  Df Residuals:      </th>  <td>  4687</td> \n",
       "</tr>\n",
       "<tr>\n",
       "  <th>Method:</th>               <td>MLE</td>       <th>  Df Model:          </th>  <td>    12</td> \n",
       "</tr>\n",
       "<tr>\n",
       "  <th>Date:</th>          <td>Thu, 21 Jun 2018</td> <th>  Pseudo R-squ.:     </th>  <td>-0.2946</td>\n",
       "</tr>\n",
       "<tr>\n",
       "  <th>Time:</th>              <td>11:27:17</td>     <th>  Log-Likelihood:    </th> <td> -1980.9</td>\n",
       "</tr>\n",
       "<tr>\n",
       "  <th>converged:</th>           <td>True</td>       <th>  LL-Null:           </th> <td> -1530.1</td>\n",
       "</tr>\n",
       "<tr>\n",
       "  <th> </th>                      <td> </td>        <th>  LLR p-value:       </th>  <td> 1.000</td> \n",
       "</tr>\n",
       "</table>\n",
       "<table class=\"simpletable\">\n",
       "<tr>\n",
       "       <td></td>          <th>coef</th>     <th>std err</th>      <th>z</th>      <th>P>|z|</th>  <th>[0.025</th>    <th>0.975]</th>  \n",
       "</tr>\n",
       "<tr>\n",
       "  <th>SP_ALZHDMTA</th> <td>   -0.0405</td> <td>    0.101</td> <td>   -0.401</td> <td> 0.688</td> <td>   -0.238</td> <td>    0.157</td>\n",
       "</tr>\n",
       "<tr>\n",
       "  <th>SP_CHF</th>      <td>   -0.2308</td> <td>    0.097</td> <td>   -2.370</td> <td> 0.018</td> <td>   -0.422</td> <td>   -0.040</td>\n",
       "</tr>\n",
       "<tr>\n",
       "  <th>SP_CHRNKIDN</th> <td>    1.4570</td> <td>    0.121</td> <td>   12.066</td> <td> 0.000</td> <td>    1.220</td> <td>    1.694</td>\n",
       "</tr>\n",
       "<tr>\n",
       "  <th>SP_CNCR</th>     <td>    0.1308</td> <td>    0.148</td> <td>    0.882</td> <td> 0.378</td> <td>   -0.160</td> <td>    0.421</td>\n",
       "</tr>\n",
       "<tr>\n",
       "  <th>SP_COPD</th>     <td>    0.9319</td> <td>    0.116</td> <td>    8.040</td> <td> 0.000</td> <td>    0.705</td> <td>    1.159</td>\n",
       "</tr>\n",
       "<tr>\n",
       "  <th>SP_DEPRESSN</th> <td>   -0.3392</td> <td>    0.098</td> <td>   -3.471</td> <td> 0.001</td> <td>   -0.531</td> <td>   -0.148</td>\n",
       "</tr>\n",
       "<tr>\n",
       "  <th>SP_DIABETES</th> <td>   -0.8365</td> <td>    0.098</td> <td>   -8.507</td> <td> 0.000</td> <td>   -1.029</td> <td>   -0.644</td>\n",
       "</tr>\n",
       "<tr>\n",
       "  <th>SP_ISCHMCHT</th> <td>   -1.1603</td> <td>    0.093</td> <td>  -12.432</td> <td> 0.000</td> <td>   -1.343</td> <td>   -0.977</td>\n",
       "</tr>\n",
       "<tr>\n",
       "  <th>SP_OSTEOPRS</th> <td>   -0.2756</td> <td>    0.105</td> <td>   -2.635</td> <td> 0.008</td> <td>   -0.481</td> <td>   -0.071</td>\n",
       "</tr>\n",
       "<tr>\n",
       "  <th>SP_RA_OA</th>    <td>   -0.0401</td> <td>    0.112</td> <td>   -0.357</td> <td> 0.721</td> <td>   -0.260</td> <td>    0.180</td>\n",
       "</tr>\n",
       "<tr>\n",
       "  <th>SP_STRKETIA</th> <td>    1.0162</td> <td>    0.166</td> <td>    6.119</td> <td> 0.000</td> <td>    0.691</td> <td>    1.342</td>\n",
       "</tr>\n",
       "<tr>\n",
       "  <th>gender_2</th>    <td>   -1.7737</td> <td>    0.075</td> <td>  -23.672</td> <td> 0.000</td> <td>   -1.921</td> <td>   -1.627</td>\n",
       "</tr>\n",
       "<tr>\n",
       "  <th>ESRD_Y</th>      <td>    0.4462</td> <td>    0.137</td> <td>    3.265</td> <td> 0.001</td> <td>    0.178</td> <td>    0.714</td>\n",
       "</tr>\n",
       "</table>"
      ],
      "text/plain": [
       "<class 'statsmodels.iolib.summary.Summary'>\n",
       "\"\"\"\n",
       "                           Logit Regression Results                           \n",
       "==============================================================================\n",
       "Dep. Variable:              HIGH_COST   No. Observations:                 4700\n",
       "Model:                          Logit   Df Residuals:                     4687\n",
       "Method:                           MLE   Df Model:                           12\n",
       "Date:                Thu, 21 Jun 2018   Pseudo R-squ.:                 -0.2946\n",
       "Time:                        11:27:17   Log-Likelihood:                -1980.9\n",
       "converged:                       True   LL-Null:                       -1530.1\n",
       "                                        LLR p-value:                     1.000\n",
       "===============================================================================\n",
       "                  coef    std err          z      P>|z|      [0.025      0.975]\n",
       "-------------------------------------------------------------------------------\n",
       "SP_ALZHDMTA    -0.0405      0.101     -0.401      0.688      -0.238       0.157\n",
       "SP_CHF         -0.2308      0.097     -2.370      0.018      -0.422      -0.040\n",
       "SP_CHRNKIDN     1.4570      0.121     12.066      0.000       1.220       1.694\n",
       "SP_CNCR         0.1308      0.148      0.882      0.378      -0.160       0.421\n",
       "SP_COPD         0.9319      0.116      8.040      0.000       0.705       1.159\n",
       "SP_DEPRESSN    -0.3392      0.098     -3.471      0.001      -0.531      -0.148\n",
       "SP_DIABETES    -0.8365      0.098     -8.507      0.000      -1.029      -0.644\n",
       "SP_ISCHMCHT    -1.1603      0.093    -12.432      0.000      -1.343      -0.977\n",
       "SP_OSTEOPRS    -0.2756      0.105     -2.635      0.008      -0.481      -0.071\n",
       "SP_RA_OA       -0.0401      0.112     -0.357      0.721      -0.260       0.180\n",
       "SP_STRKETIA     1.0162      0.166      6.119      0.000       0.691       1.342\n",
       "gender_2       -1.7737      0.075    -23.672      0.000      -1.921      -1.627\n",
       "ESRD_Y          0.4462      0.137      3.265      0.001       0.178       0.714\n",
       "===============================================================================\n",
       "\"\"\""
      ]
     },
     "execution_count": 118,
     "metadata": {},
     "output_type": "execute_result"
    }
   ],
   "source": [
    "results.summary()"
   ]
  },
  {
   "cell_type": "markdown",
   "metadata": {},
   "source": [
    "# Approach using svm"
   ]
  },
  {
   "cell_type": "code",
   "execution_count": 119,
   "metadata": {},
   "outputs": [],
   "source": [
    "from sklearn.svm import LinearSVC"
   ]
  },
  {
   "cell_type": "code",
   "execution_count": 120,
   "metadata": {},
   "outputs": [],
   "source": [
    "mod = svm.LinearSVC(class_weight='balanced')"
   ]
  },
  {
   "cell_type": "code",
   "execution_count": 121,
   "metadata": {},
   "outputs": [
    {
     "data": {
      "text/plain": [
       "LinearSVC(C=1.0, class_weight='balanced', dual=True, fit_intercept=True,\n",
       "     intercept_scaling=1, loss='squared_hinge', max_iter=1000,\n",
       "     multi_class='ovr', penalty='l2', random_state=None, tol=0.0001,\n",
       "     verbose=0)"
      ]
     },
     "execution_count": 121,
     "metadata": {},
     "output_type": "execute_result"
    }
   ],
   "source": [
    "mod.fit(X, y)"
   ]
  },
  {
   "cell_type": "code",
   "execution_count": 122,
   "metadata": {},
   "outputs": [],
   "source": [
    "conf_mat = generate_conf_mat(mod, X, y)"
   ]
  },
  {
   "cell_type": "code",
   "execution_count": 123,
   "metadata": {},
   "outputs": [
    {
     "data": {
      "text/html": [
       "<div>\n",
       "<style scoped>\n",
       "    .dataframe tbody tr th:only-of-type {\n",
       "        vertical-align: middle;\n",
       "    }\n",
       "\n",
       "    .dataframe tbody tr th {\n",
       "        vertical-align: top;\n",
       "    }\n",
       "\n",
       "    .dataframe thead th {\n",
       "        text-align: right;\n",
       "    }\n",
       "</style>\n",
       "<table border=\"1\" class=\"dataframe\">\n",
       "  <thead>\n",
       "    <tr style=\"text-align: right;\">\n",
       "      <th></th>\n",
       "      <th>0_pred</th>\n",
       "      <th>1_pred</th>\n",
       "    </tr>\n",
       "  </thead>\n",
       "  <tbody>\n",
       "    <tr>\n",
       "      <th>0_actual</th>\n",
       "      <td>0.73</td>\n",
       "      <td>0.02</td>\n",
       "    </tr>\n",
       "    <tr>\n",
       "      <th>1_actual</th>\n",
       "      <td>0.17</td>\n",
       "      <td>0.08</td>\n",
       "    </tr>\n",
       "  </tbody>\n",
       "</table>\n",
       "</div>"
      ],
      "text/plain": [
       "          0_pred  1_pred\n",
       "0_actual    0.73    0.02\n",
       "1_actual    0.17    0.08"
      ]
     },
     "execution_count": 123,
     "metadata": {},
     "output_type": "execute_result"
    }
   ],
   "source": [
    "conf_mat"
   ]
  },
  {
   "cell_type": "code",
   "execution_count": null,
   "metadata": {},
   "outputs": [],
   "source": []
  },
  {
   "cell_type": "code",
   "execution_count": null,
   "metadata": {},
   "outputs": [],
   "source": []
  }
 ],
 "metadata": {
  "kernelspec": {
   "display_name": "Python 3",
   "language": "python",
   "name": "python3"
  },
  "language_info": {
   "codemirror_mode": {
    "name": "ipython",
    "version": 3
   },
   "file_extension": ".py",
   "mimetype": "text/x-python",
   "name": "python",
   "nbconvert_exporter": "python",
   "pygments_lexer": "ipython3",
   "version": "3.6.3"
  }
 },
 "nbformat": 4,
 "nbformat_minor": 2
}
