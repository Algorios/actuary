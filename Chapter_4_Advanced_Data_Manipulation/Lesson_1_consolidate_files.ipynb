{
 "cells": [
  {
   "cell_type": "code",
   "execution_count": 21,
   "metadata": {},
   "outputs": [],
   "source": [
    "import pandas as pd\n",
    "import glob"
   ]
  },
  {
   "cell_type": "code",
   "execution_count": 22,
   "metadata": {},
   "outputs": [],
   "source": [
    "excel_files = glob.glob('files/*.xlsx')  # the glob module automatically creates a list of all files in the files folder ending in xlsx using * wildcard"
   ]
  },
  {
   "cell_type": "code",
   "execution_count": 30,
   "metadata": {},
   "outputs": [],
   "source": [
    "df_all = None # set the consolidated data frame to be None\n",
    "for excel_file in excel_files:\n",
    "    file_name = excel_file.split('.')[0][6:] # Parse the file name to remove the .xlsx extension and files/ folder\n",
    "    df = pd.read_excel(excel_file) # Automatically parses the Excel file into a pandas Data Frame\n",
    "    df['file_name'] = file_name # store the file name to keep track of which file the row came from\n",
    "    if df_all is not None:\n",
    "        df_all = df_all.append(df) # append each chunk of data to the consolidated Data Frame\n",
    "    else:\n",
    "        df_all = df # initialize with the first chunk of data"
   ]
  },
  {
   "cell_type": "code",
   "execution_count": 34,
   "metadata": {},
   "outputs": [],
   "source": [
    "df_all.to_csv('files/all_claims_files.csv', index=False) # index=False omits the index of the Data Frame from being written"
   ]
  },
  {
   "cell_type": "code",
   "execution_count": null,
   "metadata": {},
   "outputs": [],
   "source": []
  }
 ],
 "metadata": {
  "kernelspec": {
   "display_name": "Python 3",
   "language": "python",
   "name": "python3"
  },
  "language_info": {
   "codemirror_mode": {
    "name": "ipython",
    "version": 3
   },
   "file_extension": ".py",
   "mimetype": "text/x-python",
   "name": "python",
   "nbconvert_exporter": "python",
   "pygments_lexer": "ipython3",
   "version": "3.6.3"
  }
 },
 "nbformat": 4,
 "nbformat_minor": 2
}
