{
 "cells": [
  {
   "cell_type": "code",
   "execution_count": 1,
   "metadata": {},
   "outputs": [],
   "source": [
    "import pandas as pd"
   ]
  },
  {
   "cell_type": "code",
   "execution_count": 2,
   "metadata": {},
   "outputs": [],
   "source": [
    "df = pd.read_csv('files/all_claims_files.csv')"
   ]
  },
  {
   "cell_type": "code",
   "execution_count": 3,
   "metadata": {},
   "outputs": [
    {
     "data": {
      "text/plain": [
       "Index(['DESYNPUF_ID', 'BENE_BIRTH_DT', 'BENE_DEATH_DT', 'BENE_SEX_IDENT_CD',\n",
       "       'BENE_RACE_CD', 'BENE_ESRD_IND', 'SP_STATE_CODE', 'BENE_COUNTY_CD',\n",
       "       'BENE_HI_CVRAGE_TOT_MONS', 'BENE_SMI_CVRAGE_TOT_MONS',\n",
       "       'BENE_HMO_CVRAGE_TOT_MONS', 'PLAN_CVRG_MOS_NUM', 'SP_ALZHDMTA',\n",
       "       'SP_CHF', 'SP_CHRNKIDN', 'SP_CNCR', 'SP_COPD', 'SP_DEPRESSN',\n",
       "       'SP_DIABETES', 'SP_ISCHMCHT', 'SP_OSTEOPRS', 'SP_RA_OA', 'SP_STRKETIA',\n",
       "       'MEDREIMB_IP', 'BENRES_IP', 'PPPYMT_IP', 'MEDREIMB_OP', 'BENRES_OP',\n",
       "       'PPPYMT_OP', 'MEDREIMB_CAR', 'BENRES_CAR', 'PPPYMT_CAR', 'file_name'],\n",
       "      dtype='object')"
      ]
     },
     "execution_count": 3,
     "metadata": {},
     "output_type": "execute_result"
    }
   ],
   "source": [
    "df.columns"
   ]
  },
  {
   "cell_type": "code",
   "execution_count": 4,
   "metadata": {},
   "outputs": [],
   "source": [
    "df['year'] = df.file_name.map(lambda x: x[6:10])"
   ]
  },
  {
   "cell_type": "code",
   "execution_count": 5,
   "metadata": {},
   "outputs": [
    {
     "data": {
      "text/plain": [
       "2008    2000\n",
       "2010    2000\n",
       "2009    2000\n",
       "Name: year, dtype: int64"
      ]
     },
     "execution_count": 5,
     "metadata": {},
     "output_type": "execute_result"
    }
   ],
   "source": [
    "df.year.value_counts()"
   ]
  },
  {
   "cell_type": "code",
   "execution_count": 6,
   "metadata": {},
   "outputs": [],
   "source": [
    "# Re-index the Data Frame to have a two-dimensional index\n",
    "df = df.set_index(['DESYNPUF_ID', 'year'])"
   ]
  },
  {
   "cell_type": "code",
   "execution_count": 7,
   "metadata": {},
   "outputs": [],
   "source": [
    "# Split the Data Frame\n",
    "gb = df.groupby(level=[0, 1])"
   ]
  },
  {
   "cell_type": "code",
   "execution_count": 8,
   "metadata": {},
   "outputs": [],
   "source": [
    "# Define a trend assumption by service type\n",
    "trend = {}\n",
    "trend['IP'] = 1.06\n",
    "trend['CAR'] = 1.03\n",
    "trend['OP'] = 1.05"
   ]
  },
  {
   "cell_type": "code",
   "execution_count": 9,
   "metadata": {},
   "outputs": [],
   "source": [
    "# The apply function is passed the group as a Data Frame.\n",
    "# x.name is the index (a tuple if the index is more than one dimension)\n",
    "def calculate_premium(x):\n",
    "    member_name = x.name[0] # use the x.name attribute to access the first element of the index tuple\n",
    "    year = x.name[1] # use the x.name attribute to access the second element of the index tuple\n",
    "    member = x.loc[member_name] # use the loc method to access the member\n",
    "    member_year = member.loc[year] # use the loc method to access the year\n",
    "    # calculate the premium\n",
    "    if year == '2008':\n",
    "        weight = 0.1\n",
    "        trend_exp = 2\n",
    "    elif year == '2009':\n",
    "        weight = 0.3\n",
    "        trend_exp = 1\n",
    "    else:\n",
    "        weight = 0.6\n",
    "        trend_exp = 0\n",
    "    exposure = member_year['PLAN_CVRG_MOS_NUM']\n",
    "    claims_amt = member_year['MEDREIMB_IP'] * trend['IP'] ** trend_exp + \\\n",
    "        member_year['MEDREIMB_OP'] * trend['OP'] ** trend_exp + \\\n",
    "        member_year['MEDREIMB_CAR'] * trend['CAR'] ** trend_exp\n",
    "    if exposure == 0:\n",
    "        premium = 0\n",
    "    else:\n",
    "        premium = weight * (claims_amt / exposure) * 12\n",
    "    return premium"
   ]
  },
  {
   "cell_type": "code",
   "execution_count": 10,
   "metadata": {},
   "outputs": [],
   "source": [
    "premiums = gb.apply(calculate_premium)"
   ]
  },
  {
   "cell_type": "code",
   "execution_count": 11,
   "metadata": {},
   "outputs": [
    {
     "data": {
      "text/plain": [
       "1381.783704071277"
      ]
     },
     "execution_count": 11,
     "metadata": {},
     "output_type": "execute_result"
    }
   ],
   "source": [
    "# Combine step\n",
    "# Find average premium PMPM\n",
    "premiums.mean()"
   ]
  },
  {
   "cell_type": "code",
   "execution_count": null,
   "metadata": {},
   "outputs": [],
   "source": []
  }
 ],
 "metadata": {
  "kernelspec": {
   "display_name": "Python 3",
   "language": "python",
   "name": "python3"
  },
  "language_info": {
   "codemirror_mode": {
    "name": "ipython",
    "version": 3
   },
   "file_extension": ".py",
   "mimetype": "text/x-python",
   "name": "python",
   "nbconvert_exporter": "python",
   "pygments_lexer": "ipython3",
   "version": "3.6.3"
  }
 },
 "nbformat": 4,
 "nbformat_minor": 2
}
