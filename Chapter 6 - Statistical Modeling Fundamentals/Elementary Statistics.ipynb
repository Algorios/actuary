{
 "cells": [
  {
   "cell_type": "code",
   "execution_count": 1,
   "metadata": {},
   "outputs": [],
   "source": [
    "import numpy as np\n",
    "from scipy import stats\n",
    "import matplotlib.pyplot as plt"
   ]
  },
  {
   "cell_type": "code",
   "execution_count": 3,
   "metadata": {
    "scrolled": true
   },
   "outputs": [
    {
     "name": "stdout",
     "output_type": "stream",
     "text": [
      "alpha\n",
      "anglit\n",
      "arcsine\n",
      "argus\n",
      "beta\n",
      "betaprime\n",
      "bradford\n",
      "burr\n",
      "burr12\n",
      "cauchy\n",
      "chi\n",
      "chi2\n",
      "cosine\n",
      "crystalball\n",
      "dgamma\n",
      "dweibull\n",
      "erlang\n",
      "expon\n",
      "exponnorm\n",
      "exponpow\n",
      "exponweib\n",
      "f\n",
      "fatiguelife\n",
      "fisk\n",
      "foldcauchy\n",
      "foldnorm\n",
      "frechet_l\n",
      "frechet_r\n",
      "gamma\n",
      "gausshyper\n",
      "genexpon\n",
      "genextreme\n",
      "gengamma\n",
      "genhalflogistic\n",
      "genlogistic\n",
      "gennorm\n",
      "genpareto\n",
      "gilbrat\n",
      "gompertz\n",
      "gumbel_l\n",
      "gumbel_r\n",
      "halfcauchy\n",
      "halfgennorm\n",
      "halflogistic\n",
      "halfnorm\n",
      "hypsecant\n",
      "invgamma\n",
      "invgauss\n",
      "invweibull\n",
      "johnsonsb\n",
      "johnsonsu\n",
      "kappa3\n",
      "kappa4\n",
      "ksone\n",
      "kstwobign\n",
      "laplace\n",
      "levy\n",
      "levy_l\n",
      "levy_stable\n",
      "loggamma\n",
      "logistic\n",
      "loglaplace\n",
      "lognorm\n",
      "lomax\n",
      "maxwell\n",
      "mielke\n",
      "moyal\n",
      "nakagami\n",
      "ncf\n",
      "nct\n",
      "ncx2\n",
      "norm\n",
      "norminvgauss\n",
      "pareto\n",
      "pearson3\n",
      "powerlaw\n",
      "powerlognorm\n",
      "powernorm\n",
      "rayleigh\n",
      "rdist\n",
      "recipinvgauss\n",
      "reciprocal\n",
      "rice\n",
      "semicircular\n",
      "skewnorm\n",
      "t\n",
      "trapz\n",
      "triang\n",
      "truncexpon\n",
      "truncnorm\n",
      "tukeylambda\n",
      "uniform\n",
      "vonmises\n",
      "vonmises_line\n",
      "wald\n",
      "weibull_max\n",
      "weibull_min\n",
      "wrapcauchy\n"
     ]
    }
   ],
   "source": [
    "# Print continuous distributions\n",
    "# Many from exam C appear\n",
    "for x in dir(stats):\n",
    "    if isinstance(getattr(stats, x), stats.rv_continuous):\n",
    "        print(x)"
   ]
  },
  {
   "cell_type": "code",
   "execution_count": 4,
   "metadata": {},
   "outputs": [],
   "source": [
    "grid = np.linspace(-3, 3)"
   ]
  },
  {
   "cell_type": "code",
   "execution_count": 5,
   "metadata": {},
   "outputs": [],
   "source": [
    "y = stats.norm.pdf(grid)"
   ]
  },
  {
   "cell_type": "code",
   "execution_count": 6,
   "metadata": {},
   "outputs": [
    {
     "data": {
      "image/png": "[encoded data removed]",
      "text/plain": [
       "<Figure size 432x288 with 1 Axes>"
      ]
     },
     "metadata": {},
     "output_type": "display_data"
    }
   ],
   "source": [
    "plt.plot(grid, y);"
   ]
  },
  {
   "cell_type": "code",
   "execution_count": 9,
   "metadata": {},
   "outputs": [],
   "source": [
    "# Print help and plot the probability function of any continuous distribution\n",
    "# Uniform interface to distributions for pdf, cdf, random values, etc.\n",
    "def plot_cts_dist(dist, **kwargs):\n",
    "    dist_ = getattr(stats, dist)\n",
    "    print(dist_.__doc__)\n",
    "    grid = np.linspace(-3, 3)\n",
    "    plt.plot(grid, dist_.pdf(grid, **kwargs))"
   ]
  },
  {
   "cell_type": "code",
   "execution_count": 10,
   "metadata": {},
   "outputs": [
    {
     "name": "stdout",
     "output_type": "stream",
     "text": [
      "A normal continuous random variable.\n",
      "\n",
      "    The location (loc) keyword specifies the mean.\n",
      "    The scale (scale) keyword specifies the standard deviation.\n",
      "\n",
      "    As an instance of the `rv_continuous` class, `norm` object inherits from it\n",
      "    a collection of generic methods (see below for the full list),\n",
      "    and completes them with details specific for this particular distribution.\n",
      "    \n",
      "    Methods\n",
      "    -------\n",
      "    rvs(loc=0, scale=1, size=1, random_state=None)\n",
      "        Random variates.\n",
      "    pdf(x, loc=0, scale=1)\n",
      "        Probability density function.\n",
      "    logpdf(x, loc=0, scale=1)\n",
      "        Log of the probability density function.\n",
      "    cdf(x, loc=0, scale=1)\n",
      "        Cumulative distribution function.\n",
      "    logcdf(x, loc=0, scale=1)\n",
      "        Log of the cumulative distribution function.\n",
      "    sf(x, loc=0, scale=1)\n",
      "        Survival function  (also defined as ``1 - cdf``, but `sf` is sometimes more accurate).\n",
      "    logsf(x, loc=0, scale=1)\n",
      "        Log of the survival function.\n",
      "    ppf(q, loc=0, scale=1)\n",
      "        Percent point function (inverse of ``cdf`` --- percentiles).\n",
      "    isf(q, loc=0, scale=1)\n",
      "        Inverse survival function (inverse of ``sf``).\n",
      "    moment(n, loc=0, scale=1)\n",
      "        Non-central moment of order n\n",
      "    stats(loc=0, scale=1, moments='mv')\n",
      "        Mean('m'), variance('v'), skew('s'), and/or kurtosis('k').\n",
      "    entropy(loc=0, scale=1)\n",
      "        (Differential) entropy of the RV.\n",
      "    fit(data, loc=0, scale=1)\n",
      "        Parameter estimates for generic data.\n",
      "    expect(func, args=(), loc=0, scale=1, lb=None, ub=None, conditional=False, **kwds)\n",
      "        Expected value of a function (of one argument) with respect to the distribution.\n",
      "    median(loc=0, scale=1)\n",
      "        Median of the distribution.\n",
      "    mean(loc=0, scale=1)\n",
      "        Mean of the distribution.\n",
      "    var(loc=0, scale=1)\n",
      "        Variance of the distribution.\n",
      "    std(loc=0, scale=1)\n",
      "        Standard deviation of the distribution.\n",
      "    interval(alpha, loc=0, scale=1)\n",
      "        Endpoints of the range that contains alpha percent of the distribution\n",
      "\n",
      "    Notes\n",
      "    -----\n",
      "    The probability density function for `norm` is:\n",
      "\n",
      "    .. math::\n",
      "\n",
      "        f(x) = \\frac{\\exp(-x^2/2)}{\\sqrt{2\\pi}}\n",
      "\n",
      "    The survival function, ``norm.sf``, is also referred to as the\n",
      "    Q-function in some contexts (see, e.g.,\n",
      "    `Wikipedia's <https://en.wikipedia.org/wiki/Q-function>`_ definition).\n",
      "\n",
      "    The probability density above is defined in the \"standardized\" form. To shift\n",
      "    and/or scale the distribution use the ``loc`` and ``scale`` parameters.\n",
      "    Specifically, ``norm.pdf(x, loc, scale)`` is identically\n",
      "    equivalent to ``norm.pdf(y) / scale`` with\n",
      "    ``y = (x - loc) / scale``.\n",
      "\n",
      "    Examples\n",
      "    --------\n",
      "    >>> from scipy.stats import norm\n",
      "    >>> import matplotlib.pyplot as plt\n",
      "    >>> fig, ax = plt.subplots(1, 1)\n",
      "    \n",
      "    Calculate a few first moments:\n",
      "    \n",
      "    \n",
      "    >>> mean, var, skew, kurt = norm.stats(moments='mvsk')\n",
      "    \n",
      "    Display the probability density function (``pdf``):\n",
      "    \n",
      "    >>> x = np.linspace(norm.ppf(0.01),\n",
      "    ...                 norm.ppf(0.99), 100)\n",
      "    >>> ax.plot(x, norm.pdf(x),\n",
      "    ...        'r-', lw=5, alpha=0.6, label='norm pdf')\n",
      "    \n",
      "    Alternatively, the distribution object can be called (as a function)\n",
      "    to fix the shape, location and scale parameters. This returns a \"frozen\"\n",
      "    RV object holding the given parameters fixed.\n",
      "    \n",
      "    Freeze the distribution and display the frozen ``pdf``:\n",
      "    \n",
      "    >>> rv = norm()\n",
      "    >>> ax.plot(x, rv.pdf(x), 'k-', lw=2, label='frozen pdf')\n",
      "    \n",
      "    Check accuracy of ``cdf`` and ``ppf``:\n",
      "    \n",
      "    >>> vals = norm.ppf([0.001, 0.5, 0.999])\n",
      "    >>> np.allclose([0.001, 0.5, 0.999], norm.cdf(vals))\n",
      "    True\n",
      "    \n",
      "    Generate random numbers:\n",
      "    \n",
      "    >>> r = norm.rvs(size=1000)\n",
      "    \n",
      "    And compare the histogram:\n",
      "    \n",
      "    >>> ax.hist(r, density=True, histtype='stepfilled', alpha=0.2)\n",
      "    >>> ax.legend(loc='best', frameon=False)\n",
      "    >>> plt.show()\n",
      "    \n",
      "\n",
      "    \n"
     ]
    },
    {
     "data": {
      "image/png": "[encoded data removed]",
      "text/plain": [
       "<Figure size 432x288 with 1 Axes>"
      ]
     },
     "metadata": {},
     "output_type": "display_data"
    }
   ],
   "source": [
    "plot_cts_dist('norm')"
   ]
  },
  {
   "cell_type": "code",
   "execution_count": 11,
   "metadata": {
    "scrolled": true
   },
   "outputs": [
    {
     "data": {
      "text/plain": [
       "0.5"
      ]
     },
     "execution_count": 11,
     "metadata": {},
     "output_type": "execute_result"
    }
   ],
   "source": [
    "stats.norm.cdf(0)"
   ]
  },
  {
   "cell_type": "code",
   "execution_count": 12,
   "metadata": {},
   "outputs": [],
   "source": [
    "np.random.seed(314)\n",
    "vals = stats.norm.rvs(size=100)"
   ]
  },
  {
   "cell_type": "code",
   "execution_count": 13,
   "metadata": {},
   "outputs": [
    {
     "data": {
      "text/plain": [
       "-0.024290543811315835"
      ]
     },
     "execution_count": 13,
     "metadata": {},
     "output_type": "execute_result"
    }
   ],
   "source": [
    "vals.mean()"
   ]
  },
  {
   "cell_type": "code",
   "execution_count": 14,
   "metadata": {},
   "outputs": [
    {
     "data": {
      "text/plain": [
       "0.9396883594273587"
      ]
     },
     "execution_count": 14,
     "metadata": {},
     "output_type": "execute_result"
    }
   ],
   "source": [
    "vals.std()"
   ]
  },
  {
   "cell_type": "code",
   "execution_count": 15,
   "metadata": {},
   "outputs": [
    {
     "name": "stdout",
     "output_type": "stream",
     "text": [
      "bernoulli\n",
      "binom\n",
      "boltzmann\n",
      "dlaplace\n",
      "geom\n",
      "hypergeom\n",
      "logser\n",
      "nbinom\n",
      "planck\n",
      "poisson\n",
      "randint\n",
      "skellam\n",
      "zipf\n"
     ]
    }
   ],
   "source": [
    "# Print discrete distributions\n",
    "for x in dir(stats):\n",
    "    if isinstance(getattr(stats, x), stats.rv_discrete):\n",
    "        print(x)"
   ]
  },
  {
   "cell_type": "code",
   "execution_count": 16,
   "metadata": {},
   "outputs": [],
   "source": [
    "# Print help and plot the probability function of any discrete distribution\n",
    "def plot_disc_dist(dist, **kwargs):\n",
    "    dist_ = getattr(stats, dist)\n",
    "    print(dist_.__doc__)\n",
    "    grid = list(range(0, 11))\n",
    "    plt.plot(grid, dist_.pmf(grid, **kwargs))"
   ]
  },
  {
   "cell_type": "code",
   "execution_count": 17,
   "metadata": {},
   "outputs": [
    {
     "name": "stdout",
     "output_type": "stream",
     "text": [
      "A Poisson discrete random variable.\n",
      "\n",
      "    As an instance of the `rv_discrete` class, `poisson` object inherits from it\n",
      "    a collection of generic methods (see below for the full list),\n",
      "    and completes them with details specific for this particular distribution.\n",
      "    \n",
      "    Methods\n",
      "    -------\n",
      "    rvs(mu, loc=0, size=1, random_state=None)\n",
      "        Random variates.\n",
      "    pmf(k, mu, loc=0)\n",
      "        Probability mass function.\n",
      "    logpmf(k, mu, loc=0)\n",
      "        Log of the probability mass function.\n",
      "    cdf(k, mu, loc=0)\n",
      "        Cumulative distribution function.\n",
      "    logcdf(k, mu, loc=0)\n",
      "        Log of the cumulative distribution function.\n",
      "    sf(k, mu, loc=0)\n",
      "        Survival function  (also defined as ``1 - cdf``, but `sf` is sometimes more accurate).\n",
      "    logsf(k, mu, loc=0)\n",
      "        Log of the survival function.\n",
      "    ppf(q, mu, loc=0)\n",
      "        Percent point function (inverse of ``cdf`` --- percentiles).\n",
      "    isf(q, mu, loc=0)\n",
      "        Inverse survival function (inverse of ``sf``).\n",
      "    stats(mu, loc=0, moments='mv')\n",
      "        Mean('m'), variance('v'), skew('s'), and/or kurtosis('k').\n",
      "    entropy(mu, loc=0)\n",
      "        (Differential) entropy of the RV.\n",
      "    expect(func, args=(mu,), loc=0, lb=None, ub=None, conditional=False)\n",
      "        Expected value of a function (of one argument) with respect to the distribution.\n",
      "    median(mu, loc=0)\n",
      "        Median of the distribution.\n",
      "    mean(mu, loc=0)\n",
      "        Mean of the distribution.\n",
      "    var(mu, loc=0)\n",
      "        Variance of the distribution.\n",
      "    std(mu, loc=0)\n",
      "        Standard deviation of the distribution.\n",
      "    interval(alpha, mu, loc=0)\n",
      "        Endpoints of the range that contains alpha percent of the distribution\n",
      "\n",
      "    Notes\n",
      "    -----\n",
      "    The probability mass function for `poisson` is:\n",
      "\n",
      "    .. math::\n",
      "\n",
      "        f(k) = \\exp(-\\mu) \\frac{mu^k}{k!}\n",
      "\n",
      "    for :math:`k \\ge 0`.\n",
      "\n",
      "    `poisson` takes :math:`\\mu` as shape parameter.\n",
      "\n",
      "    The probability mass function above is defined in the \"standardized\" form.\n",
      "    To shift distribution use the ``loc`` parameter.\n",
      "    Specifically, ``poisson.pmf(k, mu, loc)`` is identically\n",
      "    equivalent to ``poisson.pmf(k - loc, mu)``.\n",
      "\n",
      "    Examples\n",
      "    --------\n",
      "    >>> from scipy.stats import poisson\n",
      "    >>> import matplotlib.pyplot as plt\n",
      "    >>> fig, ax = plt.subplots(1, 1)\n",
      "    \n",
      "    Calculate a few first moments:\n",
      "    \n",
      "    >>> mu = 0.6\n",
      "    >>> mean, var, skew, kurt = poisson.stats(mu, moments='mvsk')\n",
      "    \n",
      "    Display the probability mass function (``pmf``):\n",
      "    \n",
      "    >>> x = np.arange(poisson.ppf(0.01, mu),\n",
      "    ...               poisson.ppf(0.99, mu))\n",
      "    >>> ax.plot(x, poisson.pmf(x, mu), 'bo', ms=8, label='poisson pmf')\n",
      "    >>> ax.vlines(x, 0, poisson.pmf(x, mu), colors='b', lw=5, alpha=0.5)\n",
      "    \n",
      "    Alternatively, the distribution object can be called (as a function)\n",
      "    to fix the shape and location. This returns a \"frozen\" RV object holding\n",
      "    the given parameters fixed.\n",
      "    \n",
      "    Freeze the distribution and display the frozen ``pmf``:\n",
      "    \n",
      "    >>> rv = poisson(mu)\n",
      "    >>> ax.vlines(x, 0, rv.pmf(x), colors='k', linestyles='-', lw=1,\n",
      "    ...         label='frozen pmf')\n",
      "    >>> ax.legend(loc='best', frameon=False)\n",
      "    >>> plt.show()\n",
      "    \n",
      "    Check accuracy of ``cdf`` and ``ppf``:\n",
      "    \n",
      "    >>> prob = poisson.cdf(x, mu)\n",
      "    >>> np.allclose(x, poisson.ppf(prob, mu))\n",
      "    True\n",
      "    \n",
      "    Generate random numbers:\n",
      "    \n",
      "    >>> r = poisson.rvs(mu, size=1000)\n",
      "\n",
      "    \n"
     ]
    },
    {
     "data": {
      "image/png": "[encoded data removed]",
      "text/plain": [
       "<Figure size 432x288 with 1 Axes>"
      ]
     },
     "metadata": {},
     "output_type": "display_data"
    }
   ],
   "source": [
    "plot_disc_dist('poisson', mu=5)"
   ]
  },
  {
   "cell_type": "code",
   "execution_count": null,
   "metadata": {},
   "outputs": [],
   "source": []
  }
 ],
 "metadata": {
  "kernelspec": {
   "display_name": "Python 3",
   "language": "python",
   "name": "python3"
  },
  "language_info": {
   "codemirror_mode": {
    "name": "ipython",
    "version": 3
   },
   "file_extension": ".py",
   "mimetype": "text/x-python",
   "name": "python",
   "nbconvert_exporter": "python",
   "pygments_lexer": "ipython3",
   "version": "3.6.3"
  }
 },
 "nbformat": 4,
 "nbformat_minor": 2
}
