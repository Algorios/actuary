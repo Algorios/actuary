{
 "cells": [
  {
   "cell_type": "code",
   "execution_count": 14,
   "metadata": {
    "collapsed": true
   },
   "outputs": [],
   "source": [
    "import pandas as pd\n",
    "import os"
   ]
  },
  {
   "cell_type": "code",
   "execution_count": 15,
   "metadata": {
    "collapsed": true
   },
   "outputs": [],
   "source": [
    "pd.set_option('display.float_format', '{:,.2f}'.format)"
   ]
  },
  {
   "cell_type": "code",
   "execution_count": 16,
   "metadata": {
    "collapsed": true
   },
   "outputs": [],
   "source": [
    "directory_files = os.listdir('files')"
   ]
  },
  {
   "cell_type": "code",
   "execution_count": 32,
   "metadata": {
    "collapsed": true
   },
   "outputs": [],
   "source": [
    "def parse_file_type(token, target_ext):\n",
    "    \"\"\" \n",
    "    Search the files directory for files only containing the token\n",
    "    and ending with the target file extension\n",
    "    token: str, required\n",
    "        The file name filter\n",
    "    target_ext: str, required\n",
    "        The file extension filter\n",
    "    \"\"\"\n",
    "    files = {}\n",
    "    for file_name in directory_files:\n",
    "        if token in file_name:\n",
    "            period_split = file_name.split('.')\n",
    "            file_ext = period_split[-1:][0]\n",
    "            if file_ext == target_ext:\n",
    "                df = pd.read_excel(os.path.join('files', file_name), 'Sheet1')\n",
    "                underscore_split = file_name.split('_')\n",
    "                file_year = underscore_split[2]\n",
    "                df['file_year'] = file_year\n",
    "                files[file_name] = df\n",
    "    return files"
   ]
  },
  {
   "cell_type": "code",
   "execution_count": 33,
   "metadata": {
    "collapsed": true
   },
   "outputs": [],
   "source": [
    "bene_files = parse_file_type('Beneficiary_Summary_File', 'xlsx')"
   ]
  },
  {
   "cell_type": "code",
   "execution_count": 34,
   "metadata": {},
   "outputs": [],
   "source": [
    "bene_df = pd.concat(bene_files.values())"
   ]
  },
  {
   "cell_type": "code",
   "execution_count": 49,
   "metadata": {},
   "outputs": [
    {
     "data": {
      "text/html": [
       "<div>\n",
       "<style>\n",
       "    .dataframe thead tr:only-child th {\n",
       "        text-align: right;\n",
       "    }\n",
       "\n",
       "    .dataframe thead th {\n",
       "        text-align: left;\n",
       "    }\n",
       "\n",
       "    .dataframe tbody tr th {\n",
       "        vertical-align: top;\n",
       "    }\n",
       "</style>\n",
       "<table border=\"1\" class=\"dataframe\">\n",
       "  <thead>\n",
       "    <tr style=\"text-align: right;\">\n",
       "      <th></th>\n",
       "      <th>DESYNPUF_ID</th>\n",
       "      <th>BENE_BIRTH_DT</th>\n",
       "      <th>BENE_DEATH_DT</th>\n",
       "      <th>BENE_SEX_IDENT_CD</th>\n",
       "      <th>BENE_RACE_CD</th>\n",
       "      <th>BENE_ESRD_IND</th>\n",
       "      <th>SP_STATE_CODE</th>\n",
       "      <th>BENE_COUNTY_CD</th>\n",
       "      <th>BENE_HI_CVRAGE_TOT_MONS</th>\n",
       "      <th>BENE_SMI_CVRAGE_TOT_MONS</th>\n",
       "      <th>...</th>\n",
       "      <th>BENRES_IP</th>\n",
       "      <th>PPPYMT_IP</th>\n",
       "      <th>MEDREIMB_OP</th>\n",
       "      <th>BENRES_OP</th>\n",
       "      <th>PPPYMT_OP</th>\n",
       "      <th>MEDREIMB_CAR</th>\n",
       "      <th>BENRES_CAR</th>\n",
       "      <th>PPPYMT_CAR</th>\n",
       "      <th>file_year</th>\n",
       "      <th>total_payments</th>\n",
       "    </tr>\n",
       "  </thead>\n",
       "  <tbody>\n",
       "    <tr>\n",
       "      <th>0</th>\n",
       "      <td>00013D2EFD8E45D1</td>\n",
       "      <td>19230501</td>\n",
       "      <td>nan</td>\n",
       "      <td>1</td>\n",
       "      <td>1</td>\n",
       "      <td>0</td>\n",
       "      <td>26</td>\n",
       "      <td>950</td>\n",
       "      <td>12</td>\n",
       "      <td>12</td>\n",
       "      <td>...</td>\n",
       "      <td>0</td>\n",
       "      <td>0</td>\n",
       "      <td>50</td>\n",
       "      <td>10</td>\n",
       "      <td>0</td>\n",
       "      <td>0</td>\n",
       "      <td>0</td>\n",
       "      <td>0</td>\n",
       "      <td>2008</td>\n",
       "      <td>50</td>\n",
       "    </tr>\n",
       "    <tr>\n",
       "      <th>1</th>\n",
       "      <td>00016F745862898F</td>\n",
       "      <td>19430101</td>\n",
       "      <td>nan</td>\n",
       "      <td>1</td>\n",
       "      <td>1</td>\n",
       "      <td>0</td>\n",
       "      <td>39</td>\n",
       "      <td>230</td>\n",
       "      <td>12</td>\n",
       "      <td>12</td>\n",
       "      <td>...</td>\n",
       "      <td>0</td>\n",
       "      <td>0</td>\n",
       "      <td>0</td>\n",
       "      <td>0</td>\n",
       "      <td>0</td>\n",
       "      <td>700</td>\n",
       "      <td>240</td>\n",
       "      <td>0</td>\n",
       "      <td>2008</td>\n",
       "      <td>700</td>\n",
       "    </tr>\n",
       "    <tr>\n",
       "      <th>2</th>\n",
       "      <td>0001FDD721E223DC</td>\n",
       "      <td>19360901</td>\n",
       "      <td>nan</td>\n",
       "      <td>2</td>\n",
       "      <td>1</td>\n",
       "      <td>0</td>\n",
       "      <td>39</td>\n",
       "      <td>280</td>\n",
       "      <td>12</td>\n",
       "      <td>12</td>\n",
       "      <td>...</td>\n",
       "      <td>0</td>\n",
       "      <td>0</td>\n",
       "      <td>0</td>\n",
       "      <td>0</td>\n",
       "      <td>0</td>\n",
       "      <td>0</td>\n",
       "      <td>0</td>\n",
       "      <td>0</td>\n",
       "      <td>2008</td>\n",
       "      <td>0</td>\n",
       "    </tr>\n",
       "    <tr>\n",
       "      <th>3</th>\n",
       "      <td>00021CA6FF03E670</td>\n",
       "      <td>19410601</td>\n",
       "      <td>nan</td>\n",
       "      <td>1</td>\n",
       "      <td>5</td>\n",
       "      <td>0</td>\n",
       "      <td>6</td>\n",
       "      <td>290</td>\n",
       "      <td>0</td>\n",
       "      <td>0</td>\n",
       "      <td>...</td>\n",
       "      <td>0</td>\n",
       "      <td>0</td>\n",
       "      <td>0</td>\n",
       "      <td>0</td>\n",
       "      <td>0</td>\n",
       "      <td>0</td>\n",
       "      <td>0</td>\n",
       "      <td>0</td>\n",
       "      <td>2008</td>\n",
       "      <td>0</td>\n",
       "    </tr>\n",
       "    <tr>\n",
       "      <th>4</th>\n",
       "      <td>00024B3D2352D2D0</td>\n",
       "      <td>19360801</td>\n",
       "      <td>nan</td>\n",
       "      <td>1</td>\n",
       "      <td>1</td>\n",
       "      <td>0</td>\n",
       "      <td>52</td>\n",
       "      <td>590</td>\n",
       "      <td>12</td>\n",
       "      <td>12</td>\n",
       "      <td>...</td>\n",
       "      <td>0</td>\n",
       "      <td>0</td>\n",
       "      <td>30</td>\n",
       "      <td>40</td>\n",
       "      <td>0</td>\n",
       "      <td>220</td>\n",
       "      <td>80</td>\n",
       "      <td>0</td>\n",
       "      <td>2008</td>\n",
       "      <td>250</td>\n",
       "    </tr>\n",
       "  </tbody>\n",
       "</table>\n",
       "<p>5 rows × 34 columns</p>\n",
       "</div>"
      ],
      "text/plain": [
       "        DESYNPUF_ID  BENE_BIRTH_DT  BENE_DEATH_DT  BENE_SEX_IDENT_CD  \\\n",
       "0  00013D2EFD8E45D1       19230501            nan                  1   \n",
       "1  00016F745862898F       19430101            nan                  1   \n",
       "2  0001FDD721E223DC       19360901            nan                  2   \n",
       "3  00021CA6FF03E670       19410601            nan                  1   \n",
       "4  00024B3D2352D2D0       19360801            nan                  1   \n",
       "\n",
       "   BENE_RACE_CD BENE_ESRD_IND  SP_STATE_CODE  BENE_COUNTY_CD  \\\n",
       "0             1             0             26             950   \n",
       "1             1             0             39             230   \n",
       "2             1             0             39             280   \n",
       "3             5             0              6             290   \n",
       "4             1             0             52             590   \n",
       "\n",
       "   BENE_HI_CVRAGE_TOT_MONS  BENE_SMI_CVRAGE_TOT_MONS       ...        \\\n",
       "0                       12                        12       ...         \n",
       "1                       12                        12       ...         \n",
       "2                       12                        12       ...         \n",
       "3                        0                         0       ...         \n",
       "4                       12                        12       ...         \n",
       "\n",
       "   BENRES_IP  PPPYMT_IP  MEDREIMB_OP  BENRES_OP  PPPYMT_OP  MEDREIMB_CAR  \\\n",
       "0          0          0           50         10          0             0   \n",
       "1          0          0            0          0          0           700   \n",
       "2          0          0            0          0          0             0   \n",
       "3          0          0            0          0          0             0   \n",
       "4          0          0           30         40          0           220   \n",
       "\n",
       "   BENRES_CAR  PPPYMT_CAR  file_year  total_payments  \n",
       "0           0           0       2008              50  \n",
       "1         240           0       2008             700  \n",
       "2           0           0       2008               0  \n",
       "3           0           0       2008               0  \n",
       "4          80           0       2008             250  \n",
       "\n",
       "[5 rows x 34 columns]"
      ]
     },
     "execution_count": 49,
     "metadata": {},
     "output_type": "execute_result"
    }
   ],
   "source": [
    "bene_df.head()"
   ]
  },
  {
   "cell_type": "code",
   "execution_count": 39,
   "metadata": {
    "collapsed": true
   },
   "outputs": [],
   "source": [
    "diabetes = bene_df.SP_CHF.value_counts()"
   ]
  },
  {
   "cell_type": "code",
   "execution_count": 27,
   "metadata": {},
   "outputs": [
    {
     "data": {
      "text/plain": [
       "DESYNPUF_ID                  object\n",
       "BENE_BIRTH_DT                 int64\n",
       "BENE_DEATH_DT               float64\n",
       "BENE_SEX_IDENT_CD             int64\n",
       "BENE_RACE_CD                  int64\n",
       "BENE_ESRD_IND                object\n",
       "SP_STATE_CODE                 int64\n",
       "BENE_COUNTY_CD                int64\n",
       "BENE_HI_CVRAGE_TOT_MONS       int64\n",
       "BENE_SMI_CVRAGE_TOT_MONS      int64\n",
       "BENE_HMO_CVRAGE_TOT_MONS      int64\n",
       "PLAN_CVRG_MOS_NUM             int64\n",
       "SP_ALZHDMTA                   int64\n",
       "SP_CHF                        int64\n",
       "SP_CHRNKIDN                   int64\n",
       "SP_CNCR                       int64\n",
       "SP_COPD                       int64\n",
       "SP_DEPRESSN                   int64\n",
       "SP_DIABETES                   int64\n",
       "SP_ISCHMCHT                   int64\n",
       "SP_OSTEOPRS                   int64\n",
       "SP_RA_OA                      int64\n",
       "SP_STRKETIA                   int64\n",
       "MEDREIMB_IP                   int64\n",
       "BENRES_IP                     int64\n",
       "PPPYMT_IP                     int64\n",
       "MEDREIMB_OP                   int64\n",
       "BENRES_OP                     int64\n",
       "PPPYMT_OP                     int64\n",
       "MEDREIMB_CAR                  int64\n",
       "BENRES_CAR                    int64\n",
       "PPPYMT_CAR                    int64\n",
       "file_name                    object\n",
       "file_year                    object\n",
       "dtype: object"
      ]
     },
     "execution_count": 27,
     "metadata": {},
     "output_type": "execute_result"
    }
   ],
   "source": [
    "bene_df.dtypes"
   ]
  },
  {
   "cell_type": "code",
   "execution_count": 41,
   "metadata": {
    "collapsed": true
   },
   "outputs": [],
   "source": [
    "total_payments = bene_df.MEDREIMB_IP + bene_df.MEDREIMB_OP + bene_df.MEDREIMB_CAR"
   ]
  },
  {
   "cell_type": "code",
   "execution_count": 42,
   "metadata": {
    "collapsed": true
   },
   "outputs": [],
   "source": [
    "bene_df['total_payments'] = total_payments"
   ]
  },
  {
   "cell_type": "code",
   "execution_count": 56,
   "metadata": {},
   "outputs": [],
   "source": [
    "bene_df['diabetes'] = bene_df['SP_DIABETES'].map({1: 'Diabetic', 2: 'Non-diabetic'})"
   ]
  },
  {
   "cell_type": "code",
   "execution_count": 57,
   "metadata": {
    "collapsed": true
   },
   "outputs": [],
   "source": [
    "bene_df['heart_failure'] = bene_df['SP_CHF'].map({1: 'Congestive Heart Failure', 2: 'No Heart Failure'})"
   ]
  },
  {
   "cell_type": "code",
   "execution_count": 69,
   "metadata": {
    "collapsed": true
   },
   "outputs": [],
   "source": [
    "bene_pvt = bene_df.pivot_table(index=['file_year','diabetes', 'heart_failure'], values=['BENE_HI_CVRAGE_TOT_MONS', 'total_payments'], aggfunc='sum')"
   ]
  },
  {
   "cell_type": "code",
   "execution_count": 70,
   "metadata": {
    "collapsed": true
   },
   "outputs": [],
   "source": [
    "bene_pvt = bene_pvt.reset_index()"
   ]
  },
  {
   "cell_type": "code",
   "execution_count": 71,
   "metadata": {
    "collapsed": true
   },
   "outputs": [],
   "source": [
    "def evaluate_pmpm(x):\n",
    "    \"\"\"\n",
    "    Calculate the per member per month costs from the total payments and hospital coverage months\n",
    "    Assume that patients are covered under both Part A and Part B\n",
    "    x: data frame row, required\n",
    "        Assumes that the date frame contains total coverage and payments rows\n",
    "    \"\"\"\n",
    "    member_months = x['BENE_HI_CVRAGE_TOT_MONS']\n",
    "    total_payments = x['total_payments']\n",
    "    return total_payments / member_months * 12"
   ]
  },
  {
   "cell_type": "code",
   "execution_count": 72,
   "metadata": {
    "scrolled": true
   },
   "outputs": [],
   "source": [
    "bene_pvt['PMPM'] = bene_pvt.apply(evaluate_pmpm, axis=1)"
   ]
  },
  {
   "cell_type": "code",
   "execution_count": 74,
   "metadata": {},
   "outputs": [
    {
     "data": {
      "text/html": [
       "<div>\n",
       "<style>\n",
       "    .dataframe thead tr:only-child th {\n",
       "        text-align: right;\n",
       "    }\n",
       "\n",
       "    .dataframe thead th {\n",
       "        text-align: left;\n",
       "    }\n",
       "\n",
       "    .dataframe tbody tr th {\n",
       "        vertical-align: top;\n",
       "    }\n",
       "</style>\n",
       "<table border=\"1\" class=\"dataframe\">\n",
       "  <thead>\n",
       "    <tr style=\"text-align: right;\">\n",
       "      <th></th>\n",
       "      <th>file_year</th>\n",
       "      <th>2008</th>\n",
       "      <th>2009</th>\n",
       "      <th>2010</th>\n",
       "    </tr>\n",
       "    <tr>\n",
       "      <th>diabetes</th>\n",
       "      <th>heart_failure</th>\n",
       "      <th></th>\n",
       "      <th></th>\n",
       "      <th></th>\n",
       "    </tr>\n",
       "  </thead>\n",
       "  <tbody>\n",
       "    <tr>\n",
       "      <th rowspan=\"2\" valign=\"top\">Diabetic</th>\n",
       "      <th>Congestive Heart Failure</th>\n",
       "      <td>13,642.79</td>\n",
       "      <td>11,008.22</td>\n",
       "      <td>6,174.50</td>\n",
       "    </tr>\n",
       "    <tr>\n",
       "      <th>No Heart Failure</th>\n",
       "      <td>4,254.33</td>\n",
       "      <td>5,411.04</td>\n",
       "      <td>3,540.14</td>\n",
       "    </tr>\n",
       "    <tr>\n",
       "      <th rowspan=\"2\" valign=\"top\">Non-diabetic</th>\n",
       "      <th>Congestive Heart Failure</th>\n",
       "      <td>4,843.91</td>\n",
       "      <td>5,508.22</td>\n",
       "      <td>4,131.01</td>\n",
       "    </tr>\n",
       "    <tr>\n",
       "      <th>No Heart Failure</th>\n",
       "      <td>818.32</td>\n",
       "      <td>1,238.14</td>\n",
       "      <td>1,094.24</td>\n",
       "    </tr>\n",
       "  </tbody>\n",
       "</table>\n",
       "</div>"
      ],
      "text/plain": [
       "file_year                                  2008      2009     2010\n",
       "diabetes     heart_failure                                        \n",
       "Diabetic     Congestive Heart Failure 13,642.79 11,008.22 6,174.50\n",
       "             No Heart Failure          4,254.33  5,411.04 3,540.14\n",
       "Non-diabetic Congestive Heart Failure  4,843.91  5,508.22 4,131.01\n",
       "             No Heart Failure            818.32  1,238.14 1,094.24"
      ]
     },
     "execution_count": 74,
     "metadata": {},
     "output_type": "execute_result"
    }
   ],
   "source": [
    "bene_pvt.pivot_table(index=['diabetes', 'heart_failure'], columns='file_year', values='PMPM', aggfunc='mean')"
   ]
  },
  {
   "cell_type": "code",
   "execution_count": 75,
   "metadata": {
    "collapsed": true
   },
   "outputs": [],
   "source": [
    "bene_pvt.to_excel('files/bene_pvt.xlsx')"
   ]
  },
  {
   "cell_type": "code",
   "execution_count": null,
   "metadata": {
    "collapsed": true
   },
   "outputs": [],
   "source": []
  }
 ],
 "metadata": {
  "kernelspec": {
   "display_name": "Python 3",
   "language": "python",
   "name": "python3"
  },
  "language_info": {
   "codemirror_mode": {
    "name": "ipython",
    "version": 3
   },
   "file_extension": ".py",
   "mimetype": "text/x-python",
   "name": "python",
   "nbconvert_exporter": "python",
   "pygments_lexer": "ipython3",
   "version": "3.6.2"
  }
 },
 "nbformat": 4,
 "nbformat_minor": 2
}
