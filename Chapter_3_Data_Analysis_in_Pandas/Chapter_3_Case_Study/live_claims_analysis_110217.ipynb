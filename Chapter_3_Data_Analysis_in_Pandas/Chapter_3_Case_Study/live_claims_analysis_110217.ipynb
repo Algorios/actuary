{
 "cells": [
  {
   "cell_type": "code",
   "execution_count": 2,
   "metadata": {
    "collapsed": true
   },
   "outputs": [],
   "source": [
    "import pandas as pd\n",
    "import os"
   ]
  },
  {
   "cell_type": "code",
   "execution_count": 3,
   "metadata": {
    "collapsed": true
   },
   "outputs": [],
   "source": [
    "bene_files = os.listdir('files')"
   ]
  },
  {
   "cell_type": "code",
   "execution_count": 34,
   "metadata": {},
   "outputs": [],
   "source": [
    "files = {}\n",
    "for file_name in bene_files:\n",
    "    file_ext = file_name.split('.')[-1:][0]\n",
    "    if (file_ext == 'xlsx' and 'Beneficiary_Summary_File' in file_name):\n",
    "       file_year = file_name.split('_')[2]\n",
    "       df = pd.read_excel(os.path.join('files', file_name), 'Sheet1')\n",
    "       df['file_year'] = file_year\n",
    "       files[file_name] = df"
   ]
  },
  {
   "cell_type": "code",
   "execution_count": 52,
   "metadata": {},
   "outputs": [],
   "source": [
    "df = pd.concat(files.values())"
   ]
  },
  {
   "cell_type": "code",
   "execution_count": 53,
   "metadata": {},
   "outputs": [],
   "source": [
    "diabetes = df['SP_DIABETES'].map({1: 'Diabetes', 2: 'No Diabetes'})"
   ]
  },
  {
   "cell_type": "code",
   "execution_count": 54,
   "metadata": {},
   "outputs": [],
   "source": [
    "chf = df['SP_CHF'].map({1: 'Congestive Heart Failure', 2: 'Healthy heart'})"
   ]
  },
  {
   "cell_type": "code",
   "execution_count": 55,
   "metadata": {},
   "outputs": [],
   "source": [
    "df['diabetes'] = diabetes"
   ]
  },
  {
   "cell_type": "code",
   "execution_count": 56,
   "metadata": {
    "collapsed": true
   },
   "outputs": [],
   "source": [
    "df['chf'] = chf"
   ]
  },
  {
   "cell_type": "code",
   "execution_count": 57,
   "metadata": {},
   "outputs": [],
   "source": [
    "df['total_payments'] = df['MEDREIMB_IP'] + df['MEDREIMB_OP'] + df['MEDREIMB_CAR']"
   ]
  },
  {
   "cell_type": "code",
   "execution_count": 58,
   "metadata": {},
   "outputs": [
    {
     "data": {
      "text/plain": [
       "DESYNPUF_ID                  object\n",
       "BENE_BIRTH_DT                 int64\n",
       "BENE_DEATH_DT               float64\n",
       "BENE_SEX_IDENT_CD             int64\n",
       "BENE_RACE_CD                  int64\n",
       "BENE_ESRD_IND                object\n",
       "SP_STATE_CODE                 int64\n",
       "BENE_COUNTY_CD                int64\n",
       "BENE_HI_CVRAGE_TOT_MONS       int64\n",
       "BENE_SMI_CVRAGE_TOT_MONS      int64\n",
       "BENE_HMO_CVRAGE_TOT_MONS      int64\n",
       "PLAN_CVRG_MOS_NUM             int64\n",
       "SP_ALZHDMTA                   int64\n",
       "SP_CHF                        int64\n",
       "SP_CHRNKIDN                   int64\n",
       "SP_CNCR                       int64\n",
       "SP_COPD                       int64\n",
       "SP_DEPRESSN                   int64\n",
       "SP_DIABETES                   int64\n",
       "SP_ISCHMCHT                   int64\n",
       "SP_OSTEOPRS                   int64\n",
       "SP_RA_OA                      int64\n",
       "SP_STRKETIA                   int64\n",
       "MEDREIMB_IP                   int64\n",
       "BENRES_IP                     int64\n",
       "PPPYMT_IP                     int64\n",
       "MEDREIMB_OP                   int64\n",
       "BENRES_OP                     int64\n",
       "PPPYMT_OP                     int64\n",
       "MEDREIMB_CAR                  int64\n",
       "BENRES_CAR                    int64\n",
       "PPPYMT_CAR                    int64\n",
       "file_year                    object\n",
       "diabetes                     object\n",
       "chf                          object\n",
       "total_payments                int64\n",
       "dtype: object"
      ]
     },
     "execution_count": 58,
     "metadata": {},
     "output_type": "execute_result"
    }
   ],
   "source": [
    "df.dtypes"
   ]
  },
  {
   "cell_type": "code",
   "execution_count": 59,
   "metadata": {},
   "outputs": [],
   "source": [
    "pvt = df.pivot_table(index=['file_year', 'diabetes', 'chf'], values=['BENE_HI_CVRAGE_TOT_MONS', 'total_payments'], aggfunc='sum')"
   ]
  },
  {
   "cell_type": "code",
   "execution_count": 60,
   "metadata": {},
   "outputs": [],
   "source": [
    "pvt  = pvt.reset_index()"
   ]
  },
  {
   "cell_type": "code",
   "execution_count": 61,
   "metadata": {},
   "outputs": [],
   "source": [
    "def calc_pmpy(x):\n",
    "    member_months = x['BENE_HI_CVRAGE_TOT_MONS']\n",
    "    amount = x['total_payments']\n",
    "    if member_months > 0:\n",
    "       return amount/member_months\n",
    "    else:\n",
    "       return 0"
   ]
  },
  {
   "cell_type": "code",
   "execution_count": 62,
   "metadata": {},
   "outputs": [],
   "source": [
    "pvt['PMPY'] = pvt.apply(calc_pmpy, axis=1)"
   ]
  },
  {
   "cell_type": "code",
   "execution_count": 65,
   "metadata": {},
   "outputs": [
    {
     "data": {
      "text/html": [
       "<div>\n",
       "<style>\n",
       "    .dataframe thead tr:only-child th {\n",
       "        text-align: right;\n",
       "    }\n",
       "\n",
       "    .dataframe thead th {\n",
       "        text-align: left;\n",
       "    }\n",
       "\n",
       "    .dataframe tbody tr th {\n",
       "        vertical-align: top;\n",
       "    }\n",
       "</style>\n",
       "<table border=\"1\" class=\"dataframe\">\n",
       "  <thead>\n",
       "    <tr style=\"text-align: right;\">\n",
       "      <th></th>\n",
       "      <th>file_year</th>\n",
       "      <th>2008</th>\n",
       "      <th>2009</th>\n",
       "      <th>2010</th>\n",
       "    </tr>\n",
       "    <tr>\n",
       "      <th>diabetes</th>\n",
       "      <th>chf</th>\n",
       "      <th></th>\n",
       "      <th></th>\n",
       "      <th></th>\n",
       "    </tr>\n",
       "  </thead>\n",
       "  <tbody>\n",
       "    <tr>\n",
       "      <th rowspan=\"2\" valign=\"top\">Diabetes</th>\n",
       "      <th>Congestive Heart Failure</th>\n",
       "      <td>1136.899239</td>\n",
       "      <td>917.351984</td>\n",
       "      <td>514.541373</td>\n",
       "    </tr>\n",
       "    <tr>\n",
       "      <th>Healthy heart</th>\n",
       "      <td>354.527616</td>\n",
       "      <td>450.920139</td>\n",
       "      <td>295.011628</td>\n",
       "    </tr>\n",
       "    <tr>\n",
       "      <th rowspan=\"2\" valign=\"top\">No Diabetes</th>\n",
       "      <th>Congestive Heart Failure</th>\n",
       "      <td>403.659118</td>\n",
       "      <td>459.018555</td>\n",
       "      <td>344.250559</td>\n",
       "    </tr>\n",
       "    <tr>\n",
       "      <th>Healthy heart</th>\n",
       "      <td>68.192924</td>\n",
       "      <td>103.178112</td>\n",
       "      <td>91.186798</td>\n",
       "    </tr>\n",
       "  </tbody>\n",
       "</table>\n",
       "</div>"
      ],
      "text/plain": [
       "file_year                                    2008        2009        2010\n",
       "diabetes    chf                                                          \n",
       "Diabetes    Congestive Heart Failure  1136.899239  917.351984  514.541373\n",
       "            Healthy heart              354.527616  450.920139  295.011628\n",
       "No Diabetes Congestive Heart Failure   403.659118  459.018555  344.250559\n",
       "            Healthy heart               68.192924  103.178112   91.186798"
      ]
     },
     "execution_count": 65,
     "metadata": {},
     "output_type": "execute_result"
    }
   ],
   "source": [
    "pvt.pivot_table(index=['diabetes', 'chf'], columns='file_year', values='PMPY', aggfunc='mean')"
   ]
  },
  {
   "cell_type": "code",
   "execution_count": 66,
   "metadata": {
    "collapsed": true
   },
   "outputs": [],
   "source": [
    "pvt.to_excel('pvt_results.xlsx')"
   ]
  },
  {
   "cell_type": "code",
   "execution_count": null,
   "metadata": {
    "collapsed": true
   },
   "outputs": [],
   "source": []
  }
 ],
 "metadata": {
  "kernelspec": {
   "display_name": "Python 3",
   "language": "python",
   "name": "python3"
  },
  "language_info": {
   "codemirror_mode": {
    "name": "ipython",
    "version": 3
   },
   "file_extension": ".py",
   "mimetype": "text/x-python",
   "name": "python",
   "nbconvert_exporter": "python",
   "pygments_lexer": "ipython3",
   "version": "3.6.2"
  }
 },
 "nbformat": 4,
 "nbformat_minor": 2
}
