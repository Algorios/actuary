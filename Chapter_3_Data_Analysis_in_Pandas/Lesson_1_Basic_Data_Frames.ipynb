{
 "cells": [
  {
   "cell_type": "code",
   "execution_count": null,
   "metadata": {
    "collapsed": true
   },
   "outputs": [],
   "source": [
    "# 3.1: Data Frames"
   ]
  },
  {
   "cell_type": "code",
   "execution_count": null,
   "metadata": {
    "collapsed": true
   },
   "outputs": [],
   "source": [
    "# 3.1.1: Initializing data frames"
   ]
  },
  {
   "cell_type": "code",
   "execution_count": null,
   "metadata": {
    "collapsed": true
   },
   "outputs": [],
   "source": [
    "# Configure pandas number format\n",
    "pd.set_option('display.float_format', '{:,.2f}'.format) # similar to options(scipen=999) in R"
   ]
  },
  {
   "cell_type": "code",
   "execution_count": 9,
   "metadata": {},
   "outputs": [
    {
     "name": "stdout",
     "output_type": "stream",
     "text": [
      "(2, 3)\n",
      "Index(['a', 'b', 'c'], dtype='object')\n",
      "a    int64\n",
      "b    int64\n",
      "c    int64\n",
      "dtype: object\n",
      "              a         b         c\n",
      "count  2.000000  2.000000  2.000000\n",
      "mean   1.500000  3.500000  5.500000\n",
      "std    0.707107  0.707107  0.707107\n",
      "min    1.000000  3.000000  5.000000\n",
      "25%    1.250000  3.250000  5.250000\n",
      "50%    1.500000  3.500000  5.500000\n",
      "75%    1.750000  3.750000  5.750000\n",
      "max    2.000000  4.000000  6.000000\n",
      "   a  b  c\n",
      "0  1  3  5\n",
      "1  2  4  6\n",
      "   a  b  c\n",
      "0  1  3  5\n",
      "1  2  4  6\n"
     ]
    }
   ],
   "source": [
    "# Creating data frames\n",
    "import pandas as pd\n",
    "x = {'a': [1, 2], 'b': [3, 4], 'c': [5, 6]}\n",
    "df = pd.DataFrame(x) # from dictionary\n",
    "#Data frame properties\n",
    "print(df.shape) # dimensions of the data frame i.e. # rows by # columns\n",
    "print(df.columns) # the list of column names\n",
    "print(df.dtypes) # the data type of each column\n",
    "#Data frame methods\n",
    "print(df.describe()) # summarizes the values of every column of the df\n",
    "print(df.head())\n",
    "print(df.tail())\n",
    "# more at https://pandas.pydata.org/pandas-docs/stable/generated/pandas.DataFrame.html"
   ]
  },
  {
   "cell_type": "code",
   "execution_count": 10,
   "metadata": {
    "collapsed": true
   },
   "outputs": [],
   "source": [
    "# 3.1.2: Data frame methods"
   ]
  },
  {
   "cell_type": "code",
   "execution_count": 13,
   "metadata": {},
   "outputs": [
    {
     "data": {
      "text/html": [
       "<div>\n",
       "<style>\n",
       "    .dataframe thead tr:only-child th {\n",
       "        text-align: right;\n",
       "    }\n",
       "\n",
       "    .dataframe thead th {\n",
       "        text-align: left;\n",
       "    }\n",
       "\n",
       "    .dataframe tbody tr th {\n",
       "        vertical-align: top;\n",
       "    }\n",
       "</style>\n",
       "<table border=\"1\" class=\"dataframe\">\n",
       "  <thead>\n",
       "    <tr style=\"text-align: right;\">\n",
       "      <th></th>\n",
       "      <th>a</th>\n",
       "      <th>b</th>\n",
       "      <th>c</th>\n",
       "    </tr>\n",
       "  </thead>\n",
       "  <tbody>\n",
       "    <tr>\n",
       "      <th>1</th>\n",
       "      <td>2</td>\n",
       "      <td>4</td>\n",
       "      <td>6</td>\n",
       "    </tr>\n",
       "    <tr>\n",
       "      <th>0</th>\n",
       "      <td>1</td>\n",
       "      <td>3</td>\n",
       "      <td>5</td>\n",
       "    </tr>\n",
       "  </tbody>\n",
       "</table>\n",
       "</div>"
      ],
      "text/plain": [
       "   a  b  c\n",
       "1  2  4  6\n",
       "0  1  3  5"
      ]
     },
     "execution_count": 13,
     "metadata": {},
     "output_type": "execute_result"
    }
   ],
   "source": [
    "# 3.1.2.1: Data frame methods\n",
    "df.drop_duplicates() # returns unique values\n",
    "df.drop('a', axis=1) # drop columns from data frame\n",
    "df.sort_values(by=['a', 'b'], ascending=[False, True]) #\n",
    "#df.apply(function, axis=1) # applies a function to each row.  Function is passed a single row\n",
    "#pd.isnull() # missing data\n"
   ]
  },
  {
   "cell_type": "code",
   "execution_count": 14,
   "metadata": {
    "collapsed": true
   },
   "outputs": [],
   "source": [
    "#Row filter\n",
    "#df.query()\n",
    "#df.loc[boolean_series,:]\n",
    "#Column filter\n",
    "#df[[column1, column2]]\n"
   ]
  },
  {
   "cell_type": "code",
   "execution_count": null,
   "metadata": {
    "collapsed": true
   },
   "outputs": [],
   "source": [
    "# "
   ]
  },
  {
   "cell_type": "code",
   "execution_count": null,
   "metadata": {
    "collapsed": true
   },
   "outputs": [],
   "source": [
    "Import supports a variety of file formats\n",
    "pd.read_csv(file_name, converters={})\n",
    "pd.read_excel(file_name, sheetname, converters={}) – need to conda install xlrd pd.read_fwf(file_name, widths, converters={})\n",
    "\n",
    "Parsing is done through the converters dictionary\n",
    "converters = {column_name: data_type, …}\n"
   ]
  },
  {
   "cell_type": "code",
   "execution_count": null,
   "metadata": {
    "collapsed": true
   },
   "outputs": [],
   "source": [
    "#\n",
    ".index – the index of the data frame (similar to primary key in SQL)\n",
    "\t.loc[row_index, column_index]\n",
    "Data frame methods\n",
    "\t.reset_index(drop=True) – reset the index to sequential numbering\n"
   ]
  },
  {
   "cell_type": "code",
   "execution_count": null,
   "metadata": {
    "collapsed": true
   },
   "outputs": [],
   "source": [
    "# column accessor – [column_name] or .column_name (equivalent to $ in R).  Depends on if column_name contains spaces.\n",
    "Series methods\n",
    "\t.value_counts() – shows the distribution of values\n",
    "\t.tolist() – converts the series to a list\n",
    "\t.map(function) – applies the function to each element\n",
    "Source: https://pandas.pydata.org/pandas-docs/stable/generated/pandas.Series.html\n"
   ]
  },
  {
   "cell_type": "code",
   "execution_count": null,
   "metadata": {
    "collapsed": true
   },
   "outputs": [],
   "source": [
    "# filtering"
   ]
  },
  {
   "cell_type": "code",
   "execution_count": null,
   "metadata": {
    "collapsed": true
   },
   "outputs": [],
   "source": [
    "# exporting\n",
    "df.to_excel(file_name, index=False) – need to conda install openpyxl\n",
    "df.to_csv(file_name, index=False)\n"
   ]
  }
 ],
 "metadata": {
  "kernelspec": {
   "display_name": "Python 3",
   "language": "python",
   "name": "python3"
  },
  "language_info": {
   "codemirror_mode": {
    "name": "ipython",
    "version": 3
   },
   "file_extension": ".py",
   "mimetype": "text/x-python",
   "name": "python",
   "nbconvert_exporter": "python",
   "pygments_lexer": "ipython3",
   "version": "3.6.2"
  }
 },
 "nbformat": 4,
 "nbformat_minor": 2
}
