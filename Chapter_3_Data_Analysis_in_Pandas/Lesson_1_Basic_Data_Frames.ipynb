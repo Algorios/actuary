{
 "cells": [
  {
   "cell_type": "code",
   "execution_count": 1,
   "metadata": {
    "collapsed": true
   },
   "outputs": [],
   "source": [
    "# 3.1: Data Frames"
   ]
  },
  {
   "cell_type": "code",
   "execution_count": 3,
   "metadata": {
    "collapsed": true
   },
   "outputs": [],
   "source": [
    "# 3.1.1: Creating data frames"
   ]
  },
  {
   "cell_type": "code",
   "execution_count": 5,
   "metadata": {},
   "outputs": [],
   "source": [
    "# Configure numbers in Pandas not to be in scientific notation\n",
    "import pandas as pd\n",
    "pd.set_option('display.float_format', '{:,.2f}'.format) # similar to options(scipen=999) in R"
   ]
  },
  {
   "cell_type": "code",
   "execution_count": 27,
   "metadata": {},
   "outputs": [
    {
     "name": "stdout",
     "output_type": "stream",
     "text": [
      "   a  b  c\n",
      "0  1  3  5\n",
      "1  2  4  6\n"
     ]
    }
   ],
   "source": [
    "# 3.1.1.1: Create a data frame from a dictionary\n",
    "x_dict = {'a': [1, 2], 'b': [3, 4], 'c': [5, 6]}\n",
    "df = pd.DataFrame(x_dict) # constructor from dictionary \n",
    "print(df) # 0, 1 is the index of the data frame\n",
    "# more at https://pandas.pydata.org/pandas-docs/stable/generated/pandas.DataFrame.html"
   ]
  },
  {
   "cell_type": "code",
   "execution_count": 28,
   "metadata": {
    "scrolled": true
   },
   "outputs": [
    {
     "name": "stdout",
     "output_type": "stream",
     "text": [
      "(2, 3)\n",
      "Index(['a', 'b', 'c'], dtype='object')\n",
      "a    int64\n",
      "b    int64\n",
      "c    int64\n",
      "dtype: object\n"
     ]
    }
   ],
   "source": [
    "# 3.1.1.2: Fundamental data frame properties\n",
    "print(df.shape) # dimensions of the data frame i.e. # rows by # columns\n",
    "print(df.columns) # the index of column names.  dtype of object means that the column names are strings.\n",
    "print(df.dtypes) # the data type of each column"
   ]
  },
  {
   "cell_type": "code",
   "execution_count": 29,
   "metadata": {},
   "outputs": [
    {
     "name": "stdout",
     "output_type": "stream",
     "text": [
      "         a    b    c\n",
      "count 2.00 2.00 2.00\n",
      "mean  1.50 3.50 5.50\n",
      "std   0.71 0.71 0.71\n",
      "min   1.00 3.00 5.00\n",
      "25%   1.25 3.25 5.25\n",
      "50%   1.50 3.50 5.50\n",
      "75%   1.75 3.75 5.75\n",
      "max   2.00 4.00 6.00\n",
      "   a  b  c\n",
      "0  1  3  5\n",
      "   a  b  c\n",
      "1  2  4  6\n"
     ]
    }
   ],
   "source": [
    "# 3.1.1.3: Fundamental data frame methods\n",
    "print(df.describe()) # summary statistics and percentiles of every numerical column\n",
    "print(df.head(1)) # df.head(n) only select the top most n rows\n",
    "print(df.tail(1)) # df.tail(n) only select the bottom most n rows"
   ]
  },
  {
   "cell_type": "code",
   "execution_count": 44,
   "metadata": {},
   "outputs": [
    {
     "name": "stdout",
     "output_type": "stream",
     "text": [
      "0    1\n",
      "1    2\n",
      "Name: a, dtype: int64\n",
      "   a  c\n",
      "0  1  5\n",
      "1  2  6\n",
      "first row:\n",
      "a    1\n",
      "b    3\n",
      "c    5\n",
      "Name: 0, dtype: int64\n",
      "   a  b  c\n",
      "0  1  3  5\n",
      "1  2  4  6\n",
      "Access a single cell:\n",
      "1\n",
      "1\n"
     ]
    }
   ],
   "source": [
    "# 3.1.1.4: Selecting columns, rows and cells of data frames\n",
    "print(df['a']) # Select one column.  Use the column index value i.e. column name\n",
    "print(df[['a', 'c']]) # Select multiple columns (not necessarily contiguous)\n",
    "print('Select the first row:')\n",
    "print(df.loc[0,:]) # Select rows by the row index using loc\n",
    "print(df.loc[[0, 1], :]) # Pass a list of row indices to select multiple rows (not necessarily contiguous) )\n",
    "print('Select a single cell:')\n",
    "print(df.loc[0, 'a']) # Use loc to select a single cell using indices.  Numbering starts with 0.\n",
    "print(df.iloc[0, 0]) # Use iloc to select single cell using position.  Numbering starts with 0."
   ]
  },
  {
   "cell_type": "code",
   "execution_count": 45,
   "metadata": {},
   "outputs": [
    {
     "name": "stdout",
     "output_type": "stream",
     "text": [
      "   a  b  c  d\n",
      "0  1  3  5  7\n",
      "1  2  4  6  6\n",
      "   b  c  d\n",
      "0  3  5  7\n",
      "1  4  6  6\n"
     ]
    }
   ],
   "source": [
    "# 3.1.1.5: Adding and removing columns from a data frame\n",
    "df['d'] = [7, 6] # Add a new column to an existing data frame by calling the index\n",
    "print(df)\n",
    "df = df.drop('a', axis=1) # Remove an existing column from a data frame. axis of 1 indicates columns (axis=0 is rows).\n",
    "print(df)"
   ]
  },
  {
   "cell_type": "code",
   "execution_count": null,
   "metadata": {
    "collapsed": true
   },
   "outputs": [],
   "source": [
    "# 3.1.2: Operations on data frames"
   ]
  },
  {
   "cell_type": "code",
   "execution_count": 48,
   "metadata": {},
   "outputs": [
    {
     "name": "stdout",
     "output_type": "stream",
     "text": [
      "   a  b  c\n",
      "0  1  3  1\n",
      "1  1  3  2\n",
      "2  2  3  3\n",
      "3  3  3  4\n",
      "   a  b  c\n",
      "0  1  3  1\n",
      "1  1  3  2\n",
      "2  2  3  3\n",
      "3  3  3  4\n",
      "   a  b\n",
      "0  1  3\n",
      "2  2  3\n",
      "3  3  3\n",
      "0    3\n",
      "Name: b, dtype: int64\n"
     ]
    }
   ],
   "source": [
    "# 3.1.2.1: Using drop_duplicates to return unique combinations of column values\n",
    "# Analogous to the \"remove duplicates\" button in Excel\n",
    "x = {'a': [1, 1, 2, 3], 'b': [3, 3, 3, 3], 'c': [1, 2, 3, 4]}\n",
    "df = pd.DataFrame(x)\n",
    "print(df)\n",
    "print(df.drop_duplicates()) # returns unique rows from the entire data frame\n",
    "print(df[['a', 'b']].drop_duplicates()) # returns the unique values from combinations of a and b\n",
    "print(df['b'].drop_duplicates()) # returns the unique values of only column b "
   ]
  },
  {
   "cell_type": "code",
   "execution_count": 53,
   "metadata": {},
   "outputs": [
    {
     "data": {
      "text/html": [
       "<div>\n",
       "<style>\n",
       "    .dataframe thead tr:only-child th {\n",
       "        text-align: right;\n",
       "    }\n",
       "\n",
       "    .dataframe thead th {\n",
       "        text-align: left;\n",
       "    }\n",
       "\n",
       "    .dataframe tbody tr th {\n",
       "        vertical-align: top;\n",
       "    }\n",
       "</style>\n",
       "<table border=\"1\" class=\"dataframe\">\n",
       "  <thead>\n",
       "    <tr style=\"text-align: right;\">\n",
       "      <th></th>\n",
       "      <th>a</th>\n",
       "      <th>b</th>\n",
       "      <th>c</th>\n",
       "    </tr>\n",
       "  </thead>\n",
       "  <tbody>\n",
       "    <tr>\n",
       "      <th>3</th>\n",
       "      <td>3</td>\n",
       "      <td>3</td>\n",
       "      <td>4</td>\n",
       "    </tr>\n",
       "    <tr>\n",
       "      <th>2</th>\n",
       "      <td>2</td>\n",
       "      <td>3</td>\n",
       "      <td>3</td>\n",
       "    </tr>\n",
       "    <tr>\n",
       "      <th>0</th>\n",
       "      <td>1</td>\n",
       "      <td>3</td>\n",
       "      <td>1</td>\n",
       "    </tr>\n",
       "    <tr>\n",
       "      <th>1</th>\n",
       "      <td>1</td>\n",
       "      <td>3</td>\n",
       "      <td>2</td>\n",
       "    </tr>\n",
       "  </tbody>\n",
       "</table>\n",
       "</div>"
      ],
      "text/plain": [
       "   a  b  c\n",
       "3  3  3  4\n",
       "2  2  3  3\n",
       "0  1  3  1\n",
       "1  1  3  2"
      ]
     },
     "execution_count": 53,
     "metadata": {},
     "output_type": "execute_result"
    }
   ],
   "source": [
    "# 3.1.2.2: Sort a data frame by its columns\n",
    "# Analogous to the single/multiple sort in Excel\n",
    "df.sort_values(by=['a', 'c'], ascending=[False, True]) # Multiple columns and mixed ascending/descending\n",
    "# extend to any number columns of a data frame, in order of priority"
   ]
  },
  {
   "cell_type": "code",
   "execution_count": 62,
   "metadata": {},
   "outputs": [
    {
     "name": "stdout",
     "output_type": "stream",
     "text": [
      "0     True\n",
      "1     True\n",
      "2    False\n",
      "3    False\n",
      "Name: a, dtype: bool\n",
      "   a  b  c\n",
      "0  1  3  1\n",
      "1  1  3  2\n",
      "   a  b  c\n",
      "0  1  3  1\n",
      "1  1  3  2\n",
      "Using the query method:\n",
      "   a  b  c\n",
      "0  1  3  1\n"
     ]
    }
   ],
   "source": [
    "# 3.1.2.3: There are two ways to filter rows in Pandas \n",
    "#Row filter\n",
    "#df.query()\n",
    "#df.loc[boolean_series,:]\n",
    "#Column filter\n",
    "#df[[column1, column2]]\n",
    "boolean_series = df['a'] == 1\n",
    "print(boolean_series) # Returns a series of booleans\n",
    "print(df[boolean_series]) # Only select rows where column a is 1, pass a boolean series as an index\n",
    "print(df[df['a']==1]) # Or do all at once\n",
    "print('Using the query method:') # Use the query method if multiple column conditions are required\n",
    "print(df.query('a==1 and c==1')) # "
   ]
  },
  {
   "cell_type": "code",
   "execution_count": null,
   "metadata": {
    "collapsed": true
   },
   "outputs": [],
   "source": [
    "# \n",
    "#df.apply(function, axis=1) # applies a function to each row.  Function is passed a single row\n",
    "#pd.isnull() # missing data"
   ]
  },
  {
   "cell_type": "code",
   "execution_count": null,
   "metadata": {
    "collapsed": true
   },
   "outputs": [],
   "source": [
    "Import supports a variety of file formats\n",
    "pd.read_csv(file_name, converters={})\n",
    "pd.read_excel(file_name, sheetname, converters={}) – need to conda install xlrd pd.read_fwf(file_name, widths, converters={})\n",
    "\n",
    "Parsing is done through the converters dictionary\n",
    "converters = {column_name: data_type, …}\n"
   ]
  },
  {
   "cell_type": "code",
   "execution_count": null,
   "metadata": {
    "collapsed": true
   },
   "outputs": [],
   "source": [
    "#\n",
    ".index – the index of the data frame (similar to primary key in SQL)\n",
    "\t.loc[row_index, column_index]\n",
    "Data frame methods\n",
    "\t.reset_index(drop=True) – reset the index to sequential numbering\n"
   ]
  },
  {
   "cell_type": "code",
   "execution_count": null,
   "metadata": {
    "collapsed": true
   },
   "outputs": [],
   "source": [
    "# column accessor – [column_name] or .column_name (equivalent to $ in R).  Depends on if column_name contains spaces.\n",
    "Series methods\n",
    "\t.value_counts() – shows the distribution of values\n",
    "\t.tolist() – converts the series to a list\n",
    "\t.map(function) – applies the function to each element\n",
    "Source: https://pandas.pydata.org/pandas-docs/stable/generated/pandas.Series.html\n"
   ]
  },
  {
   "cell_type": "code",
   "execution_count": null,
   "metadata": {
    "collapsed": true
   },
   "outputs": [],
   "source": [
    "# filtering"
   ]
  },
  {
   "cell_type": "code",
   "execution_count": null,
   "metadata": {
    "collapsed": true
   },
   "outputs": [],
   "source": [
    "# exporting\n",
    "df.to_excel(file_name, index=False) – need to conda install openpyxl\n",
    "df.to_csv(file_name, index=False)\n"
   ]
  }
 ],
 "metadata": {
  "kernelspec": {
   "display_name": "Python 3",
   "language": "python",
   "name": "python3"
  },
  "language_info": {
   "codemirror_mode": {
    "name": "ipython",
    "version": 3
   },
   "file_extension": ".py",
   "mimetype": "text/x-python",
   "name": "python",
   "nbconvert_exporter": "python",
   "pygments_lexer": "ipython3",
   "version": "3.6.2"
  }
 },
 "nbformat": 4,
 "nbformat_minor": 2
}
